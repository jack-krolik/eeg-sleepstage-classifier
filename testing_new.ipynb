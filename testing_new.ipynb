{
 "cells": [
  {
   "cell_type": "code",
   "execution_count": 1,
   "metadata": {},
   "outputs": [
    {
     "name": "stdout",
     "output_type": "stream",
     "text": [
      "Setting NUMEXPR_MAX_THREADS to 24 out of 48 total cores.\n"
     ]
    },
    {
     "name": "stderr",
     "output_type": "stream",
     "text": [
      "2024-11-18 13:30:18,712 - INFO - \n",
      "GPU Configuration:\n",
      "    Physical GPU ID: 0 (NVIDIA TITAN V)\n",
      "    Logical Device ID: cuda:0\n",
      "    Compute Capability: 7.0\n",
      "    Total Memory: 12.65GB\n",
      "    Free Memory: 12.65GB\n",
      "    Memory Fraction: 0.80\n",
      "    Multi-Processors: 80\n",
      "                    \n"
     ]
    }
   ],
   "source": [
    "import os\n",
    "import json\n",
    "import torch\n",
    "import plotly.graph_objects as go\n",
    "from plotly.subplots import make_subplots\n",
    "import numpy as np\n",
    "from datetime import datetime\n",
    "import pandas as pd\n",
    "from collections import Counter\n",
    "from typing import Dict, List, Tuple, Optional\n",
    "import torch.nn.functional as F\n",
    "from tools_clean.config_clean import device, DATA_FILES, CONFIG, cuda_manager\n",
    "from tools_clean.classes_clean import EnsembleModel, SleepDataManager, SleepStageEvaluator\n",
    "from tools_clean.functions_clean import convert_to_serializable, format_class_distribution\n",
    "from tools_clean.utils_clean import *"
   ]
  },
  {
   "cell_type": "code",
   "execution_count": 2,
   "metadata": {},
   "outputs": [],
   "source": [
    "def load_sleep_data(model_dir: str, \n",
    "                   new_data_files: List[str], \n",
    "                   model_params: Optional[Dict] = None) -> Tuple[EnsembleModel, SleepDataManager]:\n",
    "    \"\"\"\n",
    "    Load the model and data\n",
    "    \n",
    "    Args:\n",
    "        model_dir: Directory containing the saved model\n",
    "        new_data_files: List of data files to evaluate\n",
    "        model_params: Optional model parameters\n",
    "        \n",
    "    Returns:\n",
    "        Tuple of (loaded model, data manager)\n",
    "    \"\"\"\n",
    "    # Load model configuration if not provided\n",
    "    if model_params is None:\n",
    "        config_path = os.path.join(model_dir, 'model_config.json')\n",
    "        with open(config_path, 'r') as f:\n",
    "            config = json.load(f)\n",
    "            model_params = config['model_params']\n",
    "    \n",
    "    # Load model\n",
    "    model_path = os.path.join(model_dir, 'best_model.pt')\n",
    "    model = EnsembleModel(model_params).to(device)\n",
    "    model.load_state_dict(torch.load(model_path))\n",
    "    model.eval()\n",
    "    \n",
    "    # Load data\n",
    "    logging.info(f\"\\nLoading new data from {len(new_data_files)} files...\")\n",
    "    data_manager = SleepDataManager(\n",
    "        data_files=new_data_files,\n",
    "        val_ratio=0.0\n",
    "    )\n",
    "    data_manager.load_and_preprocess()\n",
    "    \n",
    "    # Verify data shapes\n",
    "    logging.info(\"Verifying data shapes...\")\n",
    "    for night_idx in range(len(new_data_files)):\n",
    "        night_mask = data_manager.data['night_idx'] == night_idx\n",
    "        night_data = data_manager.data['x'][night_mask]\n",
    "        if night_data.shape[1] != 4 or night_data.shape[2] != 3000:\n",
    "            logging.warning(f\"Unexpected data shape in night {night_idx}: {night_data.shape}\")\n",
    "            \n",
    "    return model, data_manager\n",
    "\n"
   ]
  },
  {
   "cell_type": "code",
   "execution_count": 3,
   "metadata": {},
   "outputs": [
    {
     "name": "stderr",
     "output_type": "stream",
     "text": [
      "/tmp/ipykernel_2569435/3042049035.py:25: FutureWarning: You are using `torch.load` with `weights_only=False` (the current default value), which uses the default pickle module implicitly. It is possible to construct malicious pickle data which will execute arbitrary code during unpickling (See https://github.com/pytorch/pytorch/blob/main/SECURITY.md#untrusted-models for more details). In a future release, the default value for `weights_only` will be flipped to `True`. This limits the functions that could be executed during unpickling. Arbitrary objects will no longer be allowed to be loaded via this mode unless they are explicitly allowlisted by the user via `torch.serialization.add_safe_globals`. We recommend you start setting `weights_only=True` for any use case where you don't have full control of the loaded file. Please open an issue on GitHub for any issues related to this experimental feature.\n",
      "  model.load_state_dict(torch.load(model_path))\n",
      "2024-11-18 13:30:23,445 - INFO - \n",
      "Loading new data from 16 files...\n",
      "Loading Data Files:   0%|          | 0/16 [00:00<?, ?file/s]2024-11-18 13:30:23,449 - INFO - Loading file 1/16: preprocessed_data_209_N1.mat\n",
      "2024-11-18 13:30:25,192 - INFO - Spectral features shape: (996, 16)\n",
      "2024-11-18 13:30:25,212 - INFO - Successfully loaded night 1: 996 samples\n",
      "Loading Data Files:   6%|▋         | 1/16 [00:01<00:27,  1.80s/file]2024-11-18 13:30:25,254 - INFO - Loading file 2/16: preprocessed_data_289_N1.mat\n",
      "2024-11-18 13:30:25,408 - ERROR - Error loading /userdata/jkrolik/eeg-sleepstage-classifier/tools_clean/../preprocessing/preprocessed_data/preprocessed_data_289_N1.mat: could not read bytes\n",
      "2024-11-18 13:30:25,409 - ERROR - Skipping this file and continuing...\n",
      "2024-11-18 13:30:25,471 - INFO - Loading file 3/16: preprocessed_data_321_N1.mat\n",
      "2024-11-18 13:30:27,141 - INFO - Spectral features shape: (1012, 16)\n",
      "2024-11-18 13:30:27,150 - INFO - Successfully loaded night 3: 1012 samples\n",
      "Loading Data Files:  12%|█▎        | 2/16 [00:03<00:26,  1.89s/file]2024-11-18 13:30:27,200 - INFO - Loading file 4/16: preprocessed_data_322_N2.mat\n"
     ]
    },
    {
     "name": "stderr",
     "output_type": "stream",
     "text": [
      "2024-11-18 13:30:28,809 - INFO - Spectral features shape: (1041, 16)\n",
      "2024-11-18 13:30:28,819 - INFO - Successfully loaded night 4: 1041 samples\n",
      "Loading Data Files:  19%|█▉        | 3/16 [00:05<00:22,  1.77s/file]2024-11-18 13:30:28,821 - INFO - Loading file 5/16: preprocessed_data_207_N2.mat\n",
      "2024-11-18 13:30:30,864 - INFO - Spectral features shape: (1009, 16)\n",
      "2024-11-18 13:30:30,877 - INFO - Successfully loaded night 5: 1009 samples\n",
      "Loading Data Files:  25%|██▌       | 4/16 [00:07<00:22,  1.89s/file]2024-11-18 13:30:30,914 - INFO - Loading file 6/16: preprocessed_data_247_N2.mat\n",
      "2024-11-18 13:30:32,555 - INFO - Spectral features shape: (1125, 16)\n",
      "2024-11-18 13:30:32,567 - INFO - Successfully loaded night 6: 1125 samples\n",
      "Loading Data Files:  31%|███▏      | 5/16 [00:09<00:20,  1.82s/file]2024-11-18 13:30:32,613 - INFO - Loading file 7/16: preprocessed_data_334_N2.mat\n",
      "2024-11-18 13:30:34,129 - INFO - Spectral features shape: (1013, 16)\n",
      "2024-11-18 13:30:34,138 - INFO - Successfully loaded night 7: 1013 samples\n",
      "Loading Data Files:  38%|███▊      | 6/16 [00:13<00:27,  2.73s/file]2024-11-18 13:30:37,104 - INFO - Loading file 8/16: preprocessed_data_287_N2.mat\n",
      "2024-11-18 13:30:38,835 - INFO - Spectral features shape: (1055, 16)\n",
      "2024-11-18 13:30:38,846 - INFO - Successfully loaded night 8: 1055 samples\n",
      "Loading Data Files:  44%|████▍     | 7/16 [00:15<00:21,  2.42s/file]2024-11-18 13:30:38,888 - INFO - Loading file 9/16: preprocessed_data_286_N1.mat\n",
      "2024-11-18 13:30:40,476 - INFO - Spectral features shape: (1054, 16)\n",
      "2024-11-18 13:30:40,484 - INFO - Successfully loaded night 9: 1054 samples\n",
      "Loading Data Files:  50%|█████     | 8/16 [00:17<00:17,  2.16s/file]2024-11-18 13:30:40,501 - INFO - Loading file 10/16: preprocessed_data_246_N1.mat\n",
      "2024-11-18 13:30:41,923 - INFO - Spectral features shape: (999, 16)\n",
      "2024-11-18 13:30:41,944 - INFO - Successfully loaded night 10: 999 samples\n",
      "Loading Data Files:  56%|█████▋    | 9/16 [00:18<00:13,  1.95s/file]2024-11-18 13:30:41,975 - INFO - Loading file 11/16: preprocessed_data_250_N1.mat\n",
      "2024-11-18 13:30:43,426 - INFO - Spectral features shape: (1014, 16)\n",
      "2024-11-18 13:30:43,434 - INFO - Successfully loaded night 11: 1014 samples\n",
      "Loading Data Files:  62%|██████▎   | 10/16 [00:20<00:10,  1.81s/file]2024-11-18 13:30:43,484 - INFO - Loading file 12/16: preprocessed_data_323_N1.mat\n",
      "2024-11-18 13:30:45,341 - INFO - Spectral features shape: (1062, 16)\n",
      "2024-11-18 13:30:45,351 - INFO - Successfully loaded night 12: 1062 samples\n",
      "Loading Data Files:  69%|██████▉   | 11/16 [00:21<00:09,  1.84s/file]2024-11-18 13:30:45,369 - INFO - Loading file 13/16: preprocessed_data_290_N1.mat\n",
      "2024-11-18 13:30:46,927 - INFO - Spectral features shape: (1060, 16)\n",
      "2024-11-18 13:30:46,935 - INFO - Successfully loaded night 13: 1060 samples\n",
      "Loading Data Files:  75%|███████▌  | 12/16 [00:23<00:07,  1.76s/file]2024-11-18 13:30:46,946 - INFO - Loading file 14/16: preprocessed_data_320_N2.mat\n",
      "2024-11-18 13:30:48,423 - INFO - Spectral features shape: (1052, 16)\n",
      "2024-11-18 13:30:48,435 - INFO - Successfully loaded night 14: 1052 samples\n",
      "Loading Data Files:  81%|████████▏ | 13/16 [00:24<00:05,  1.68s/file]2024-11-18 13:30:48,445 - INFO - Loading file 15/16: preprocessed_data_293_N2.mat\n",
      "2024-11-18 13:30:49,826 - INFO - Spectral features shape: (1017, 16)\n",
      "2024-11-18 13:30:49,832 - INFO - Successfully loaded night 15: 1017 samples\n",
      "Loading Data Files:  88%|████████▊ | 14/16 [00:26<00:03,  1.60s/file]2024-11-18 13:30:49,849 - INFO - Loading file 16/16: preprocessed_data_205_N2.mat\n",
      "2024-11-18 13:30:51,285 - INFO - Spectral features shape: (1062, 16)\n",
      "2024-11-18 13:30:51,290 - INFO - Successfully loaded night 16: 1062 samples\n",
      "Loading Data Files:  94%|█████████▍| 15/16 [00:27<00:01,  1.86s/file]\n",
      "2024-11-18 13:30:51,335 - INFO - \n",
      "Successfully loaded 15 out of 16 files\n",
      "2024-11-18 13:30:51,346 - INFO - Combining data from all nights...\n",
      "2024-11-18 13:30:51,453 - INFO - \n",
      "Final data shapes:\n",
      "2024-11-18 13:30:51,454 - INFO - X: torch.Size([15571, 4, 3000])\n",
      "2024-11-18 13:30:51,501 - INFO - X_spectral: torch.Size([15571, 16])\n",
      "2024-11-18 13:30:51,549 - INFO - y: torch.Size([15571])\n",
      "2024-11-18 13:30:51,594 - INFO - night_indices: torch.Size([15571])\n",
      "2024-11-18 13:30:51,617 - INFO - Updated class weights:\n",
      "2024-11-18 13:30:51,630 - INFO - Class 0 (N3 (Deep)): count=1607, weight=0.2027\n",
      "2024-11-18 13:30:51,650 - INFO - Class 1 (N2 (Light)): count=7414, weight=0.1935\n",
      "2024-11-18 13:30:51,705 - INFO - Class 2 (N1 (Light)): count=1096, weight=0.2082\n",
      "2024-11-18 13:30:51,741 - INFO - Class 3 (REM): count=2888, weight=0.1974\n",
      "2024-11-18 13:30:51,782 - INFO - Class 4 (Wake): count=2566, weight=0.1983\n",
      "2024-11-18 13:30:51,848 - INFO - Verifying data shapes...\n"
     ]
    }
   ],
   "source": [
    "\n",
    "model_dir = './models/new7/'\n",
    "new_data_files = DATA_FILES[60:76]\n",
    "model, data_manager = load_sleep_data(model_dir, new_data_files)\n",
    "\n"
   ]
  },
  {
   "cell_type": "code",
   "execution_count": null,
   "metadata": {},
   "outputs": [],
   "source": []
  },
  {
   "cell_type": "code",
   "execution_count": null,
   "metadata": {},
   "outputs": [],
   "source": []
  },
  {
   "cell_type": "code",
   "execution_count": null,
   "metadata": {},
   "outputs": [],
   "source": []
  },
  {
   "cell_type": "code",
   "execution_count": null,
   "metadata": {},
   "outputs": [],
   "source": []
  },
  {
   "cell_type": "code",
   "execution_count": 4,
   "metadata": {},
   "outputs": [],
   "source": [
    "import numpy as np\n",
    "from typing import Dict, List, Tuple, Optional\n",
    "import torch\n",
    "import torch.nn.functional as F\n",
    "\n",
    "class EnhancedSleepTransitionAnalyzer:\n",
    "    \"\"\"Enhanced analyzer for sleep stage transitions and prediction confidence\"\"\"\n",
    "    \n",
    "    def __init__(self, window_size: int = 3, min_stable_length: int = 5):\n",
    "        \"\"\"\n",
    "        Args:\n",
    "            window_size: Base window size for transition analysis\n",
    "            min_stable_length: Minimum length of a sleep stage to be considered stable\n",
    "        \"\"\"\n",
    "        self.window_size = window_size\n",
    "        self.min_stable_length = min_stable_length\n",
    "        \n",
    "    def find_stage_boundaries(self, labels: np.ndarray) -> List[Tuple[int, int, int]]:\n",
    "        \"\"\"\n",
    "        Find boundaries of each sleep stage sequence.\n",
    "        \n",
    "        Returns:\n",
    "            List of tuples (start_idx, end_idx, stage_length)\n",
    "        \"\"\"\n",
    "        boundaries = []\n",
    "        current_start = 0\n",
    "        current_stage = labels[0]\n",
    "        \n",
    "        for i in range(1, len(labels)):\n",
    "            if labels[i] != current_stage:\n",
    "                boundaries.append((\n",
    "                    current_start,\n",
    "                    i - 1,\n",
    "                    i - current_start\n",
    "                ))\n",
    "                current_start = i\n",
    "                current_stage = labels[i]\n",
    "                \n",
    "        # Add final stage\n",
    "        boundaries.append((\n",
    "            current_start,\n",
    "            len(labels) - 1,\n",
    "            len(labels) - current_start\n",
    "        ))\n",
    "        \n",
    "        return boundaries\n",
    "    \n",
    "    def calculate_dynamic_transition_tendency(self, labels: np.ndarray) -> np.ndarray:\n",
    "        \"\"\"\n",
    "        Calculate transition tendency with dynamic window sizes based on stage length.\n",
    "        \n",
    "        Args:\n",
    "            labels: Array of sleep stage labels\n",
    "            \n",
    "        Returns:\n",
    "            Array of transition tendency scores (0-1)\n",
    "        \"\"\"\n",
    "        n = len(labels)\n",
    "        tendencies = np.zeros(n)\n",
    "        stage_boundaries = self.find_stage_boundaries(labels)\n",
    "        \n",
    "        for start_idx, end_idx, stage_length in stage_boundaries:\n",
    "            # Adjust window size based on stage length\n",
    "            dynamic_window = min(\n",
    "                max(self.window_size, stage_length // 4),\n",
    "                stage_length // 2\n",
    "            )\n",
    "            \n",
    "            # Calculate position-based tendency within the stage\n",
    "            for pos in range(start_idx, end_idx + 1):\n",
    "                # Distance from start and end of stage\n",
    "                dist_start = pos - start_idx\n",
    "                dist_end = end_idx - pos\n",
    "                \n",
    "                # Calculate tendencies from both boundaries\n",
    "                start_tendency = np.exp(-dist_start / dynamic_window) if dist_start < dynamic_window else 0\n",
    "                end_tendency = np.exp(-dist_end / dynamic_window) if dist_end < dynamic_window else 0\n",
    "                \n",
    "                # Combine tendencies\n",
    "                tendencies[pos] = max(start_tendency, end_tendency)\n",
    "                \n",
    "                # Adjust for very short stages\n",
    "                if stage_length < self.min_stable_length:\n",
    "                    tendencies[pos] = max(tendencies[pos], 0.5)\n",
    "        \n",
    "        return tendencies\n",
    "    \n",
    "    def analyze_predictions(self, \n",
    "                          model_outputs: torch.Tensor, \n",
    "                          true_labels: np.ndarray) -> Dict:\n",
    "        \"\"\"\n",
    "        Analyze model predictions with confidence scores.\n",
    "        \n",
    "        Args:\n",
    "            model_outputs: Raw model outputs (before softmax)\n",
    "            true_labels: Ground truth labels\n",
    "            \n",
    "        Returns:\n",
    "            Dictionary containing detailed analysis\n",
    "        \"\"\"\n",
    "        # Calculate probabilities and confidence scores\n",
    "        probs = F.softmax(model_outputs, dim=1)\n",
    "        predictions = probs.argmax(dim=1).cpu().numpy()\n",
    "        confidences = probs.max(dim=1)[0].cpu().numpy()\n",
    "        \n",
    "        # Get top-2 predictions and their probabilities\n",
    "        top2_values, top2_indices = torch.topk(probs, k=2, dim=1)\n",
    "        top2_values = top2_values.cpu().numpy()\n",
    "        top2_indices = top2_indices.cpu().numpy()\n",
    "        \n",
    "        # Calculate prediction uncertainty\n",
    "        entropy = -torch.sum(probs * torch.log2(probs + 1e-10), dim=1).cpu().numpy()\n",
    "        max_entropy = -np.log2(1/probs.shape[1])  # Maximum possible entropy\n",
    "        uncertainty = entropy / max_entropy\n",
    "        \n",
    "        # Calculate transition tendencies\n",
    "        tendencies = self.calculate_dynamic_transition_tendency(true_labels)\n",
    "        \n",
    "        # Analyze prediction patterns\n",
    "        analysis = []\n",
    "        for i in range(len(true_labels)):\n",
    "            analysis.append({\n",
    "                'position': i,\n",
    "                'true_label': int(true_labels[i]),\n",
    "                'predicted_label': int(predictions[i]),\n",
    "                'is_correct': predictions[i] == true_labels[i],\n",
    "                'confidence': float(confidences[i]),\n",
    "                'uncertainty': float(uncertainty[i]),\n",
    "                'transition_tendency': float(tendencies[i]),\n",
    "                'top_predictions': [\n",
    "                    {\n",
    "                        'label': int(top2_indices[i, j]),\n",
    "                        'probability': float(top2_values[i, j])\n",
    "                    } for j in range(2)\n",
    "                ],\n",
    "                'stage_context': {\n",
    "                    'in_transition': tendencies[i] > 0.5,\n",
    "                    'confidence_ratio': float(top2_values[i, 0] / (top2_values[i, 1] + 1e-10))\n",
    "                }\n",
    "            })\n",
    "        \n",
    "        return {\n",
    "            'detailed_analysis': analysis,\n",
    "            'summary': {\n",
    "                'overall_accuracy': (predictions == true_labels).mean(),\n",
    "                'transition_accuracy': (predictions[tendencies > 0.5] == true_labels[tendencies > 0.5]).mean(),\n",
    "                'stable_accuracy': (predictions[tendencies <= 0.5] == true_labels[tendencies <= 0.5]).mean(),\n",
    "                'mean_confidence': confidences.mean(),\n",
    "                'mean_uncertainty': uncertainty.mean()\n",
    "            }\n",
    "        }"
   ]
  },
  {
   "cell_type": "code",
   "execution_count": 5,
   "metadata": {},
   "outputs": [],
   "source": [
    "def evaluate_sleep_data(model: EnsembleModel, \n",
    "                       data_manager: SleepDataManager,\n",
    "                       batch_size: int = 32) -> Dict:\n",
    "    \"\"\"Evaluate model with enhanced analysis\"\"\"\n",
    "    model.eval()\n",
    "    all_outputs = []\n",
    "    \n",
    "    with torch.no_grad():\n",
    "        for i in range(0, len(data_manager.data['x']), batch_size):\n",
    "            batch_x = data_manager.data['x'][i:i+batch_size].to(device)\n",
    "            batch_x_spectral = data_manager.data['x_spectral'][i:i+batch_size].to(device)\n",
    "            outputs = model(batch_x, batch_x_spectral)\n",
    "            all_outputs.append(outputs)\n",
    "    \n",
    "    # Combine all outputs\n",
    "    model_outputs = torch.cat(all_outputs, dim=0)\n",
    "    true_labels = data_manager.data['y'].numpy()\n",
    "    \n",
    "    # Initialize enhanced analyzer\n",
    "    analyzer = EnhancedSleepTransitionAnalyzer(window_size=3, min_stable_length=5)\n",
    "    \n",
    "    # Get detailed analysis\n",
    "    analysis = analyzer.analyze_predictions(model_outputs, true_labels)\n",
    "    \n",
    "    # Extract results for visualization\n",
    "    detailed = analysis['detailed_analysis']\n",
    "    \n",
    "    return {\n",
    "        'predictions': np.array([d['predicted_label'] for d in detailed]),\n",
    "        'confidences': np.array([d['confidence'] for d in detailed]),\n",
    "        'uncertainties': np.array([d['uncertainty'] for d in detailed]),\n",
    "        'true_labels': true_labels,\n",
    "        'tendencies': np.array([d['transition_tendency'] for d in detailed]),\n",
    "        'confidence_ratios': np.array([d['stage_context']['confidence_ratio'] for d in detailed]),\n",
    "        'detailed_analysis': analysis['detailed_analysis'],\n",
    "        'summary': analysis['summary']\n",
    "    }"
   ]
  },
  {
   "cell_type": "code",
   "execution_count": 6,
   "metadata": {},
   "outputs": [],
   "source": [
    "# 2. Evaluate\n",
    "results = evaluate_sleep_data(model, data_manager)\n",
    "\n",
    "# 3. Visualize\n",
    "# save_path = os.path.join(model_dir, 'evaluation', 'sleep_analysis_interactive.html')\n"
   ]
  },
  {
   "cell_type": "code",
   "execution_count": null,
   "metadata": {},
   "outputs": [],
   "source": []
  },
  {
   "cell_type": "code",
   "execution_count": 7,
   "metadata": {},
   "outputs": [],
   "source": [
    "def plot_sleep_analysis(results: Dict, save_path: Optional[str] = None) -> go.Figure:\n",
    "    sleep_stages = {\n",
    "        0: 'N3 (Deep Sleep)',\n",
    "        1: 'N2 (Light Sleep)', \n",
    "        2: 'N1 (Light Sleep)',\n",
    "        3: 'REM Sleep',\n",
    "        4: 'Wake'\n",
    "    }\n",
    "    \n",
    "    colors = {\n",
    "        'true': '#4CAF50',    # Green\n",
    "        'pred': '#2196F3',    # Blue\n",
    "        'error': '#EF5350',   # Red\n",
    "        'tendency': '#9C27B0', # Purple\n",
    "        'confidence': '#FFA726' # Orange\n",
    "    }\n",
    "    \n",
    "    # Create figure with three subplots\n",
    "    fig = make_subplots(\n",
    "        rows=3, cols=1,\n",
    "        shared_xaxes=True,\n",
    "        vertical_spacing=0.1,\n",
    "        row_heights=[0.5, 0.25, 0.25],\n",
    "        subplot_titles=('Sleep Stage Comparison', 'Transition Tendency', 'Model Confidence')\n",
    "    )\n",
    "    \n",
    "    total_epochs = len(results['true_labels'])\n",
    "    epochs = np.arange(1, total_epochs + 1)\n",
    "    \n",
    "    def create_hover_template(epoch_idx, tendency, true_label, pred_label, confidence):\n",
    "        is_correct = true_label == pred_label\n",
    "        status_color = 'green' if is_correct else 'red'\n",
    "        confidence_color = 'green' if confidence > 0.8 else 'orange' if confidence > 0.6 else 'red'\n",
    "        \n",
    "        return (f\"<b>Epoch {epoch_idx + 1}/{total_epochs}</b><br><br>\"\n",
    "                f\"<b>True State:</b> {sleep_stages[true_label]}<br>\"\n",
    "                f\"<b>Predicted:</b> {sleep_stages[pred_label]} <span style='color:{status_color}'>{is_correct and '✓' or '✗'}</span><br><br>\"\n",
    "                f\"<b>Confidence:</b> <span style='color:{confidence_color}'>{confidence:.1%}</span><br>\"\n",
    "                f\"<b>Transition Tendency:</b> {tendency:.2f}\")\n",
    "    \n",
    "    # Combine hover data\n",
    "    hover_data = [\n",
    "        create_hover_template(i, t, tl, pl, c)\n",
    "        for i, (t, tl, pl, c) in enumerate(zip(\n",
    "            results['tendencies'],\n",
    "            results['true_labels'],\n",
    "            results['predictions'],\n",
    "            results['confidences']\n",
    "        ))\n",
    "    ]\n",
    "    \n",
    "    # Sleep Stage Plot\n",
    "    fig.add_trace(\n",
    "        go.Scatter(\n",
    "            x=epochs,\n",
    "            y=results['true_labels'],\n",
    "            name='True Sleep Stages',\n",
    "            line=dict(color=colors['true'], width=2),\n",
    "            hoverinfo='skip'\n",
    "        ),\n",
    "        row=1, col=1\n",
    "    )\n",
    "    \n",
    "    fig.add_trace(\n",
    "        go.Scatter(\n",
    "            x=epochs,\n",
    "            y=results['predictions'],\n",
    "            name='Model Predictions',\n",
    "            line=dict(color=colors['pred'], width=2, dash='dot'),\n",
    "            hovertemplate=\"%{customdata}<extra></extra>\",\n",
    "            customdata=hover_data\n",
    "        ),\n",
    "        row=1, col=1\n",
    "    )\n",
    "    \n",
    "    # Add error highlighting\n",
    "    errors = results['predictions'] != results['true_labels']\n",
    "    error_epochs = epochs[errors]\n",
    "    error_values = results['predictions'][errors]\n",
    "    \n",
    "    fig.add_trace(\n",
    "        go.Scatter(\n",
    "            x=error_epochs,\n",
    "            y=error_values,\n",
    "            mode='markers',\n",
    "            name='Prediction Errors',\n",
    "            marker=dict(color=colors['error'], size=8, symbol='x'),\n",
    "            hoverinfo='skip'\n",
    "        ),\n",
    "        row=1, col=1\n",
    "    )\n",
    "    \n",
    "    # Confidence Plot\n",
    "    fig.add_trace(\n",
    "        go.Scatter(\n",
    "            x=epochs,\n",
    "            y=results['tendencies'],\n",
    "            name='Transition Tendency',\n",
    "            line=dict(color=colors['tendency']),\n",
    "            fill='tozeroy',\n",
    "            fillcolor=f\"rgba{tuple(list(int(colors['tendency'][i:i+2], 16) for i in (1, 3, 5)) + [0.2])}\",\n",
    "            hovertemplate=\"%{customdata}<extra></extra>\",\n",
    "            customdata=hover_data\n",
    "        ),\n",
    "        row=2, col=1\n",
    "    )\n",
    "\n",
    "    # Confidence Plot (now at bottom)\n",
    "    fig.add_trace(\n",
    "        go.Scatter(\n",
    "            x=epochs,\n",
    "            y=results['confidences'],\n",
    "            name='Prediction Confidence',\n",
    "            line=dict(color=colors['confidence']),\n",
    "            fill='tozeroy',\n",
    "            fillcolor=f\"rgba{tuple(list(int(colors['confidence'][i:i+2], 16) for i in (1, 3, 5)) + [0.2])}\",\n",
    "            hovertemplate=\"%{customdata}<extra></extra>\",\n",
    "            customdata=hover_data\n",
    "        ),\n",
    "        row=3, col=1\n",
    "    )\n",
    "\n",
    "    # Add confidence thresholds to bottom subplot\n",
    "    for threshold, label in [(0.8, 'High'), (0.6, 'Medium')]:\n",
    "        fig.add_shape(\n",
    "            type=\"line\",\n",
    "            x0=epochs[0],\n",
    "            x1=epochs[-1],\n",
    "            y0=threshold,\n",
    "            y1=threshold,\n",
    "            line=dict(color=\"gray\", width=1, dash=\"dash\"),\n",
    "            row=3, col=1\n",
    "        )\n",
    "        fig.add_annotation(\n",
    "            x=epochs[0],\n",
    "            y=threshold,\n",
    "            text=f\"{label} ({threshold:.0%})\",\n",
    "            showarrow=False,\n",
    "            xanchor=\"left\",\n",
    "            yanchor=\"bottom\",\n",
    "            row=3, col=1\n",
    "        )\n",
    "\n",
    "    # Update y-axis titles for reordered plots\n",
    "    fig.update_yaxes(title=\"Transition Tendency\", range=[-0.05, 1.05], row=2, col=1)\n",
    "    fig.update_yaxes(title=\"Confidence\", range=[-0.05, 1.05], tickformat=\".0%\", row=3, col=1)\n",
    "    \n",
    "    # Update layout\n",
    "    fig.update_layout(\n",
    "        title=dict(text=\"Sleep Stage Analysis with Confidence\", x=0.5, font=dict(size=24)),\n",
    "        height=1000,\n",
    "        showlegend=True,\n",
    "        hovermode='x unified',\n",
    "        template='plotly_white',\n",
    "        legend=dict(\n",
    "            yanchor=\"top\",\n",
    "            y=0.98,\n",
    "            xanchor=\"left\",\n",
    "            x=0.01,\n",
    "            bgcolor=\"rgba(255, 255, 255, 0.8)\"\n",
    "        ),\n",
    "        margin=dict(t=100, b=50)\n",
    "    )\n",
    "    \n",
    "    # Update axes\n",
    "    fig.update_yaxes(\n",
    "        title=\"Sleep Stage\",\n",
    "        ticktext=list(sleep_stages.values()),\n",
    "        tickvals=list(sleep_stages.keys()),\n",
    "        range=[-0.5, 4.5],\n",
    "        row=1, col=1\n",
    "    )\n",
    "    \n",
    "    fig.update_yaxes(\n",
    "        title=\"Confidence\",\n",
    "        range=[-0.05, 1.05],\n",
    "        tickformat=\".0%\",\n",
    "        row=2, col=1\n",
    "    )\n",
    "    \n",
    "    fig.update_yaxes(\n",
    "        title=\"Transition Tendency\",\n",
    "        range=[-0.05, 1.05],\n",
    "        row=3, col=1\n",
    "    )\n",
    "    \n",
    "    # Update x-axes\n",
    "    for row in [1, 2]:\n",
    "        fig.update_xaxes(\n",
    "            showspikes=True,\n",
    "            spikethickness=1,\n",
    "            spikecolor=\"gray\",\n",
    "            spikemode=\"across\",\n",
    "            showline=True,\n",
    "            showgrid=True,\n",
    "            gridcolor='#E5E5E5',\n",
    "            row=row, col=1\n",
    "        )\n",
    "    \n",
    "    # Add range slider and selector to bottom plot\n",
    "    fig.update_xaxes(\n",
    "        rangeslider=dict(visible=True),\n",
    "        rangeselector=dict(\n",
    "            buttons=list([\n",
    "                dict(count=100, label=\"100 epochs\", step=\"all\", stepmode=\"backward\"),\n",
    "                dict(count=500, label=\"500 epochs\", step=\"all\", stepmode=\"backward\"),\n",
    "                dict(count=1000, label=\"1000 epochs\", step=\"all\", stepmode=\"backward\"),\n",
    "                dict(step=\"all\", label=\"All epochs\")\n",
    "            ])\n",
    "        ),\n",
    "        title=\"Epoch\",\n",
    "        row=3, col=1\n",
    "    )\n",
    "    \n",
    "    if save_path:\n",
    "        fig.write_html(save_path)\n",
    "    \n",
    "    return fig"
   ]
  },
  {
   "cell_type": "code",
   "execution_count": 8,
   "metadata": {},
   "outputs": [],
   "source": [
    "# create fig\n",
    "fig = plot_sleep_analysis(results)\n",
    "# fig.show()\n",
    "\n",
    "save_path = './sleep_analysis.html'  # Can be any path you want\n",
    "fig.write_html(save_path)\n"
   ]
  },
  {
   "cell_type": "code",
   "execution_count": 9,
   "metadata": {},
   "outputs": [],
   "source": [
    "# def create_confidence_transition_analysis(results: Dict) -> go.Figure:\n",
    "#     \"\"\"Create analysis of model confidence vs transition tendency\"\"\"\n",
    "    \n",
    "#     # Create bins for transition tendency\n",
    "#     n_bins = 5\n",
    "#     tendency_bins = np.linspace(0, 1, n_bins+1)\n",
    "#     confidence_matrix = {stage: np.zeros((n_bins, n_bins)) for stage in range(5)}\n",
    "#     counts_matrix = {stage: np.zeros((n_bins, n_bins)) for stage in range(5)}\n",
    "    \n",
    "#     # Bin the data\n",
    "#     for i in range(len(results['true_labels'])):\n",
    "#         true_label = results['true_labels'][i]\n",
    "#         # Ensure values are clipped to valid range\n",
    "#         tendency_val = np.clip(results['tendencies'][i], 0, 1)\n",
    "#         conf_val = np.clip(results['confidences'][i], 0, 1)\n",
    "        \n",
    "#         # Get bin indices, ensuring they're within bounds\n",
    "#         tendency_bin = min(int(tendency_val * n_bins), n_bins-1)\n",
    "#         conf_bin = min(int(conf_val * n_bins), n_bins-1)\n",
    "        \n",
    "#         confidence_matrix[true_label][tendency_bin, conf_bin] += results['confidences'][i]\n",
    "#         counts_matrix[true_label][tendency_bin, conf_bin] += 1\n",
    "    \n",
    "#     # Calculate average confidence per bin\n",
    "#     for stage in confidence_matrix:\n",
    "#         mask = counts_matrix[stage] > 0\n",
    "#         confidence_matrix[stage][mask] /= counts_matrix[stage][mask]\n",
    "    \n",
    "#     sleep_stages = {\n",
    "#         0: 'N3 (Deep)',\n",
    "#         1: 'N2 (Light)',\n",
    "#         2: 'N1 (Light)',\n",
    "#         3: 'REM',\n",
    "#         4: 'Wake'\n",
    "#     }\n",
    "    \n",
    "#     # Create subplots\n",
    "#     fig = make_subplots(\n",
    "#         rows=2, cols=3,\n",
    "#         subplot_titles=[f\"{sleep_stages[i]}\" for i in range(5)] + [\"Average\"],\n",
    "#         specs=[[{}, {}, {}], [{}, {}, None]],\n",
    "#     )\n",
    "    \n",
    "#     # Plot heatmaps for each sleep stage\n",
    "#     row_col = [(0,0), (0,1), (0,2), (1,0), (1,1)]\n",
    "    \n",
    "#     bin_labels = [f\"{v:.1f}-{tendency_bins[i+1]:.1f}\" for i, v in enumerate(tendency_bins[:-1])]\n",
    "    \n",
    "#     for stage, (row, col) in zip(range(5), row_col):\n",
    "#         fig.add_trace(\n",
    "#             go.Heatmap(\n",
    "#                 z=confidence_matrix[stage],\n",
    "#                 x=bin_labels,\n",
    "#                 y=bin_labels,\n",
    "#                 colorscale='RdYlBu',\n",
    "#                 zmin=0,\n",
    "#                 zmax=1,\n",
    "#                 showscale=True,\n",
    "#                 hoverongaps=False,\n",
    "#                 hovertemplate=(\n",
    "#                     \"Transition: %{x}<br>\" +\n",
    "#                     \"Confidence: %{y}<br>\" +\n",
    "#                     \"Avg Confidence: %{z:.2f}<br>\" +\n",
    "#                     \"Count: %{customdata}<extra></extra>\"\n",
    "#                 ),\n",
    "#                 customdata=counts_matrix[stage]\n",
    "#             ),\n",
    "#             row=row+1, col=col+1\n",
    "#         )\n",
    "    \n",
    "#     # Add average heatmap\n",
    "#     avg_matrix = sum(confidence_matrix.values()) / len(confidence_matrix)\n",
    "#     fig.add_trace(\n",
    "#         go.Heatmap(\n",
    "#             z=avg_matrix,\n",
    "#             x=bin_labels,\n",
    "#             y=bin_labels,\n",
    "#             colorscale='RdYlBu',\n",
    "#             zmin=0,\n",
    "#             zmax=1,\n",
    "#             showscale=True,\n",
    "#             hovertemplate=(\n",
    "#                 \"Transition: %{x}<br>\" +\n",
    "#                 \"Confidence: %{y}<br>\" +\n",
    "#                 \"Avg Confidence: %{z:.2f}<extra></extra>\"\n",
    "#             )\n",
    "#         ),\n",
    "#         row=2, col=2\n",
    "#     )\n",
    "    \n",
    "#     fig.update_layout(\n",
    "#         title=\"Model Confidence vs Transition Tendency by Sleep Stage\",\n",
    "#         height=800,\n",
    "#         width=1200,\n",
    "#         showlegend=False\n",
    "#     )\n",
    "    \n",
    "#     for i in range(6):\n",
    "#         row = i // 3 + 1\n",
    "#         col = i % 3 + 1\n",
    "#         if i < 5 or (row == 2 and col == 2):\n",
    "#             fig.update_xaxes(title=\"Transition Tendency\", row=row, col=col)\n",
    "#             fig.update_yaxes(title=\"Confidence\", row=row, col=col)\n",
    "    \n",
    "#     return fig\n",
    "# # create fig\n",
    "# fig2 = create_confidence_transition_analysis(results)\n",
    "# fig2.show()"
   ]
  },
  {
   "cell_type": "code",
   "execution_count": 10,
   "metadata": {},
   "outputs": [],
   "source": [
    "# import plotly.express as px\n",
    "\n",
    "# def create_confidence_transition_analysis(results: Dict) -> go.Figure:\n",
    "#     \"\"\"\n",
    "#     Create bar graph analysis of model confidence vs transition tendency\n",
    "#     \"\"\"\n",
    "#     # Create bins for transition tendency\n",
    "#     n_bins = 5\n",
    "#     tendency_bins = np.linspace(0, 1, n_bins+1)\n",
    "#     bin_labels = [f\"{tendency_bins[i]:.1f}-{tendency_bins[i+1]:.1f}\" \n",
    "#                  for i in range(n_bins)]\n",
    "    \n",
    "#     sleep_stages = {\n",
    "#         0: 'N3 (Deep)',\n",
    "#         1: 'N2 (Light)',\n",
    "#         2: 'N1 (Light)',\n",
    "#         3: 'REM',\n",
    "#         4: 'Wake'\n",
    "#     }\n",
    "    \n",
    "#     # Initialize data structures\n",
    "#     stage_data = {stage: {bin_label: [] for bin_label in bin_labels} \n",
    "#                  for stage in sleep_stages.keys()}\n",
    "    \n",
    "#     # Bin the data\n",
    "#     for i in range(len(results['true_labels'])):\n",
    "#         true_label = results['true_labels'][i]\n",
    "#         tendency_val = np.clip(results['tendencies'][i], 0, 1)\n",
    "#         confidence_val = results['confidences'][i]\n",
    "        \n",
    "#         bin_idx = min(int(tendency_val * n_bins), n_bins-1)\n",
    "#         stage_data[true_label][bin_labels[bin_idx]].append(confidence_val)\n",
    "    \n",
    "#     # Calculate statistics\n",
    "#     stats = {}\n",
    "#     overall_stats = {bin_label: [] for bin_label in bin_labels}\n",
    "    \n",
    "#     for stage in sleep_stages.keys():\n",
    "#         stats[stage] = {}\n",
    "#         for bin_label in bin_labels:\n",
    "#             values = stage_data[stage][bin_label]\n",
    "#             stats[stage][bin_label] = {\n",
    "#                 'mean': np.mean(values) if values else 0,\n",
    "#                 'std': np.std(values) if values else 0,\n",
    "#                 'count': len(values)\n",
    "#             }\n",
    "#             overall_stats[bin_label].extend(values)\n",
    "    \n",
    "#     # Calculate overall statistics\n",
    "#     overall_means = {bin_label: np.mean(values) if values else 0 \n",
    "#                     for bin_label, values in overall_stats.items()}\n",
    "#     overall_stds = {bin_label: np.std(values) if values else 0 \n",
    "#                    for bin_label, values in overall_stats.items()}\n",
    "    \n",
    "#     # Create figure with subplots\n",
    "#     fig = make_subplots(\n",
    "#         rows=2, cols=3,\n",
    "#         subplot_titles=[f\"<b>{sleep_stages[i]}</b>\" for i in range(5)] + \n",
    "#                       [\"<b>Average Across Stages</b>\"],\n",
    "#         specs=[[{}, {}, {}], [{}, {}, {}]],\n",
    "#         vertical_spacing=0.2,\n",
    "#         horizontal_spacing=0.1\n",
    "#     )\n",
    "    \n",
    "#     # Color scheme\n",
    "#     colors = px.colors.qualitative.Set3\n",
    "    \n",
    "#     # Plot individual stage bars\n",
    "#     row_col = [(1,1), (1,2), (1,3), (2,1), (2,2)]\n",
    "    \n",
    "#     for stage, (row, col) in zip(sleep_stages.keys(), row_col):\n",
    "#         stage_stats = stats[stage]\n",
    "        \n",
    "#         # Create bar trace\n",
    "#         fig.add_trace(\n",
    "#             go.Bar(\n",
    "#                 name=sleep_stages[stage],\n",
    "#                 x=bin_labels,\n",
    "#                 y=[stage_stats[bin]['mean'] for bin in bin_labels],\n",
    "#                 error_y=dict(\n",
    "#                     type='data',\n",
    "#                     array=[stage_stats[bin]['std'] for bin in bin_labels],\n",
    "#                     visible=True\n",
    "#                 ),\n",
    "#                 text=[f\"n={stage_stats[bin]['count']}<br>σ={stage_stats[bin]['std']:.3f}\" \n",
    "#                       for bin in bin_labels],\n",
    "#                 textposition='auto',\n",
    "#                 marker_color=colors[stage],\n",
    "#                 hovertemplate=(\n",
    "#                     f\"<b>{sleep_stages[stage]}</b><br>\" +\n",
    "#                     \"Transition Range: %{x}<br>\" +\n",
    "#                     \"Avg Confidence: %{y:.3f}<br>\" +\n",
    "#                     \"%{text}<extra></extra>\"\n",
    "#                 )\n",
    "#             ),\n",
    "#             row=row, col=col\n",
    "#         )\n",
    "        \n",
    "#         # Update axes for each subplot\n",
    "#         fig.update_yaxes(\n",
    "#             title=\"Average Confidence\",\n",
    "#             range=[0, 1],\n",
    "#             tickformat='.0%',\n",
    "#             row=row, col=col\n",
    "#         )\n",
    "#         fig.update_xaxes(\n",
    "#             title=\"Transition Tendency\",\n",
    "#             tickangle=45,\n",
    "#             row=row, col=col\n",
    "#         )\n",
    "    \n",
    "#     # Add overall average plot\n",
    "#     fig.add_trace(\n",
    "#         go.Bar(\n",
    "#             name='Overall Average',\n",
    "#             x=bin_labels,\n",
    "#             y=[overall_means[bin] for bin in bin_labels],\n",
    "#             error_y=dict(\n",
    "#                 type='data',\n",
    "#                 array=[overall_stds[bin] for bin in bin_labels],\n",
    "#                 visible=True\n",
    "#             ),\n",
    "#             text=[f\"n={sum(stats[s][bin]['count'] for s in sleep_stages.keys())}\"\n",
    "#                   for bin in bin_labels],\n",
    "#             textposition='auto',\n",
    "#             marker_color='rgba(100,100,100,0.6)',\n",
    "#             hovertemplate=(\n",
    "#                 \"<b>Overall Average</b><br>\" +\n",
    "#                 \"Transition Range: %{x}<br>\" +\n",
    "#                 \"Avg Confidence: %{y:.3f}<br>\" +\n",
    "#                 \"%{text}<extra></extra>\"\n",
    "#             )\n",
    "#         ),\n",
    "#         row=2, col=3\n",
    "#     )\n",
    "    \n",
    "#     # Update layout\n",
    "#     fig.update_layout(\n",
    "#         title=dict(\n",
    "#             text=\"Model Confidence vs Transition Tendency Analysis\",\n",
    "#             x=0.5,\n",
    "#             font=dict(size=24)\n",
    "#         ),\n",
    "#         height=900,\n",
    "#         width=1400,\n",
    "#         showlegend=False,\n",
    "#         bargap=0.2,\n",
    "#         bargroupgap=0.1\n",
    "#     )\n",
    "    \n",
    "#     # Add unified y-axis label\n",
    "#     fig.add_annotation(\n",
    "#         text=\"Average Confidence\",\n",
    "#         textangle=-90,\n",
    "#         xref=\"paper\",\n",
    "#         yref=\"paper\",\n",
    "#         x=-0.07,\n",
    "#         y=0.5,\n",
    "#         showarrow=False\n",
    "#     )\n",
    "    \n",
    "#     # Add unified x-axis label\n",
    "#     fig.add_annotation(\n",
    "#         text=\"Transition Tendency (0=Stable → 1=Transitioning)\",\n",
    "#         xref=\"paper\",\n",
    "#         yref=\"paper\",\n",
    "#         x=0.5,\n",
    "#         y=-0.15,\n",
    "#         showarrow=False\n",
    "#     )\n",
    "    \n",
    "#     return fig\n",
    "\n",
    "# create_confidence_transition_analysis(results).show()"
   ]
  },
  {
   "cell_type": "code",
   "execution_count": 17,
   "metadata": {},
   "outputs": [
    {
     "data": {
      "application/vnd.plotly.v1+json": {
       "config": {
        "plotlyServerURL": "https://plot.ly"
       },
       "data": [
        {
         "error_y": {
          "array": [
           0.13657220218851757,
           0.15919001152661189,
           0.1326881923105108,
           0.13932714465100707,
           0.14355146857693768
          ],
          "type": "data",
          "visible": true
         },
         "hovertemplate": "<b>N3 (Deep)</b><br>Transition Range: %{x}<br>Avg Confidence: %{y:.3f}<br>Std Dev: %{error_y.array:.3f}<br>%{text}<extra></extra>",
         "marker": {
          "color": "#1f77b4"
         },
         "name": "N3 (Deep)",
         "text": [
          "n=656",
          "n=14",
          "n=365",
          "n=256",
          "n=316"
         ],
         "textposition": "auto",
         "type": "bar",
         "x": [
          "0.0-0.2",
          "0.2-0.4",
          "0.4-0.6",
          "0.6-0.8",
          "0.8-1.0"
         ],
         "y": [
          0.8511909428620483,
          0.8023169338703156,
          0.8381217118811934,
          0.823271382600069,
          0.8232013287989399
         ]
        },
        {
         "error_y": {
          "array": [
           0.10114517163465662,
           0.08813260907466584,
           0.11733772209256348,
           0.11265810075992506,
           0.1298091773739722
          ],
          "type": "data",
          "visible": true
         },
         "hovertemplate": "<b>N2 (Light)</b><br>Transition Range: %{x}<br>Avg Confidence: %{y:.3f}<br>Std Dev: %{error_y.array:.3f}<br>%{text}<extra></extra>",
         "marker": {
          "color": "#2ca02c"
         },
         "name": "N2 (Light)",
         "text": [
          "n=3265",
          "n=62",
          "n=1451",
          "n=1214",
          "n=1422"
         ],
         "textposition": "auto",
         "type": "bar",
         "x": [
          "0.0-0.2",
          "0.2-0.4",
          "0.4-0.6",
          "0.6-0.8",
          "0.8-1.0"
         ],
         "y": [
          0.786640187043691,
          0.7871657701269272,
          0.7692768899101294,
          0.7756558796375548,
          0.7574017817880199
         ]
        },
        {
         "error_y": {
          "array": [
           0.16022553122037736,
           0,
           0.1632263590847703,
           0.1797350281009431,
           0.16507985749029214
          ],
          "type": "data",
          "visible": true
         },
         "hovertemplate": "<b>N1 (Light)</b><br>Transition Range: %{x}<br>Avg Confidence: %{y:.3f}<br>Std Dev: %{error_y.array:.3f}<br>%{text}<extra></extra>",
         "marker": {
          "color": "#98df8a"
         },
         "name": "N1 (Light)",
         "text": [
          "n=63",
          "n=0",
          "n=445",
          "n=132",
          "n=456"
         ],
         "textposition": "auto",
         "type": "bar",
         "x": [
          "0.0-0.2",
          "0.2-0.4",
          "0.4-0.6",
          "0.6-0.8",
          "0.8-1.0"
         ],
         "y": [
          0.8517698910501268,
          0,
          0.8340270885590757,
          0.8211980583992872,
          0.8302743192435357
         ]
        },
        {
         "error_y": {
          "array": [
           0.13784211458844928,
           0.14641051707608016,
           0.14096254676035647,
           0.1381091061438909,
           0.16665021414114634
          ],
          "type": "data",
          "visible": true
         },
         "hovertemplate": "<b>REM</b><br>Transition Range: %{x}<br>Avg Confidence: %{y:.3f}<br>Std Dev: %{error_y.array:.3f}<br>%{text}<extra></extra>",
         "marker": {
          "color": "#ff7f0e"
         },
         "name": "REM",
         "text": [
          "n=1344",
          "n=22",
          "n=542",
          "n=474",
          "n=506"
         ],
         "textposition": "auto",
         "type": "bar",
         "x": [
          "0.0-0.2",
          "0.2-0.4",
          "0.4-0.6",
          "0.6-0.8",
          "0.8-1.0"
         ],
         "y": [
          0.8572872206790462,
          0.8554302941669117,
          0.8556643990572969,
          0.8498473610681824,
          0.8170736733632596
         ]
        },
        {
         "error_y": {
          "array": [
           0.08599589459689795,
           0.10417170074131005,
           0.12945980418847444,
           0.1044801559240135,
           0.15353152797388953
          ],
          "type": "data",
          "visible": true
         },
         "hovertemplate": "<b>Wake</b><br>Transition Range: %{x}<br>Avg Confidence: %{y:.3f}<br>Std Dev: %{error_y.array:.3f}<br>%{text}<extra></extra>",
         "marker": {
          "color": "#d62728"
         },
         "name": "Wake",
         "text": [
          "n=1026",
          "n=52",
          "n=662",
          "n=340",
          "n=486"
         ],
         "textposition": "auto",
         "type": "bar",
         "x": [
          "0.0-0.2",
          "0.2-0.4",
          "0.4-0.6",
          "0.6-0.8",
          "0.8-1.0"
         ],
         "y": [
          0.8737651546854257,
          0.8705860938017185,
          0.8389303665326802,
          0.8657295755603734,
          0.8145558002554341
         ]
        },
        {
         "error_y": {
          "array": [
           0.11867842554538971,
           0.11819980271508945,
           0.13670118048803837,
           0.1297857943958043,
           0.1499641132964624
          ],
          "type": "data",
          "visible": true
         },
         "hovertemplate": "<b>Overall Average</b><br>Transition Range: %{x}<br>Avg Confidence: %{y:.3f}<br>Std Dev: %{error_y.array:.3f}<br><extra></extra>",
         "line": {
          "color": "#7f7f7f",
          "dash": "dot",
          "width": 3
         },
         "marker": {
          "size": 10,
          "symbol": "diamond"
         },
         "mode": "lines+markers",
         "name": "Overall Average",
         "type": "scatter",
         "x": [
          "0.0-0.2",
          "0.2-0.4",
          "0.4-0.6",
          "0.6-0.8",
          "0.8-1.0"
         ],
         "y": [
          0.8229619209397541,
          0.8275110544761022,
          0.8116650082074203,
          0.8104211756503148,
          0.7925534968060364
         ]
        }
       ],
       "layout": {
        "annotations": [
         {
          "bgcolor": "rgba(255, 255, 255, 0.8)",
          "font": {
           "size": 12
          },
          "showarrow": false,
          "text": "Total Samples: 15,571",
          "x": 0.01,
          "xref": "paper",
          "y": 0.99,
          "yref": "paper"
         }
        ],
        "bargap": 0.15,
        "bargroupgap": 0.1,
        "barmode": "group",
        "height": 700,
        "legend": {
         "bgcolor": "rgba(255, 255, 255, 0.8)",
         "x": 0.99,
         "xanchor": "right",
         "y": 0.99,
         "yanchor": "top"
        },
        "showlegend": true,
        "template": {
         "data": {
          "bar": [
           {
            "error_x": {
             "color": "#2a3f5f"
            },
            "error_y": {
             "color": "#2a3f5f"
            },
            "marker": {
             "line": {
              "color": "white",
              "width": 0.5
             },
             "pattern": {
              "fillmode": "overlay",
              "size": 10,
              "solidity": 0.2
             }
            },
            "type": "bar"
           }
          ],
          "barpolar": [
           {
            "marker": {
             "line": {
              "color": "white",
              "width": 0.5
             },
             "pattern": {
              "fillmode": "overlay",
              "size": 10,
              "solidity": 0.2
             }
            },
            "type": "barpolar"
           }
          ],
          "carpet": [
           {
            "aaxis": {
             "endlinecolor": "#2a3f5f",
             "gridcolor": "#C8D4E3",
             "linecolor": "#C8D4E3",
             "minorgridcolor": "#C8D4E3",
             "startlinecolor": "#2a3f5f"
            },
            "baxis": {
             "endlinecolor": "#2a3f5f",
             "gridcolor": "#C8D4E3",
             "linecolor": "#C8D4E3",
             "minorgridcolor": "#C8D4E3",
             "startlinecolor": "#2a3f5f"
            },
            "type": "carpet"
           }
          ],
          "choropleth": [
           {
            "colorbar": {
             "outlinewidth": 0,
             "ticks": ""
            },
            "type": "choropleth"
           }
          ],
          "contour": [
           {
            "colorbar": {
             "outlinewidth": 0,
             "ticks": ""
            },
            "colorscale": [
             [
              0,
              "#0d0887"
             ],
             [
              0.1111111111111111,
              "#46039f"
             ],
             [
              0.2222222222222222,
              "#7201a8"
             ],
             [
              0.3333333333333333,
              "#9c179e"
             ],
             [
              0.4444444444444444,
              "#bd3786"
             ],
             [
              0.5555555555555556,
              "#d8576b"
             ],
             [
              0.6666666666666666,
              "#ed7953"
             ],
             [
              0.7777777777777778,
              "#fb9f3a"
             ],
             [
              0.8888888888888888,
              "#fdca26"
             ],
             [
              1,
              "#f0f921"
             ]
            ],
            "type": "contour"
           }
          ],
          "contourcarpet": [
           {
            "colorbar": {
             "outlinewidth": 0,
             "ticks": ""
            },
            "type": "contourcarpet"
           }
          ],
          "heatmap": [
           {
            "colorbar": {
             "outlinewidth": 0,
             "ticks": ""
            },
            "colorscale": [
             [
              0,
              "#0d0887"
             ],
             [
              0.1111111111111111,
              "#46039f"
             ],
             [
              0.2222222222222222,
              "#7201a8"
             ],
             [
              0.3333333333333333,
              "#9c179e"
             ],
             [
              0.4444444444444444,
              "#bd3786"
             ],
             [
              0.5555555555555556,
              "#d8576b"
             ],
             [
              0.6666666666666666,
              "#ed7953"
             ],
             [
              0.7777777777777778,
              "#fb9f3a"
             ],
             [
              0.8888888888888888,
              "#fdca26"
             ],
             [
              1,
              "#f0f921"
             ]
            ],
            "type": "heatmap"
           }
          ],
          "heatmapgl": [
           {
            "colorbar": {
             "outlinewidth": 0,
             "ticks": ""
            },
            "colorscale": [
             [
              0,
              "#0d0887"
             ],
             [
              0.1111111111111111,
              "#46039f"
             ],
             [
              0.2222222222222222,
              "#7201a8"
             ],
             [
              0.3333333333333333,
              "#9c179e"
             ],
             [
              0.4444444444444444,
              "#bd3786"
             ],
             [
              0.5555555555555556,
              "#d8576b"
             ],
             [
              0.6666666666666666,
              "#ed7953"
             ],
             [
              0.7777777777777778,
              "#fb9f3a"
             ],
             [
              0.8888888888888888,
              "#fdca26"
             ],
             [
              1,
              "#f0f921"
             ]
            ],
            "type": "heatmapgl"
           }
          ],
          "histogram": [
           {
            "marker": {
             "pattern": {
              "fillmode": "overlay",
              "size": 10,
              "solidity": 0.2
             }
            },
            "type": "histogram"
           }
          ],
          "histogram2d": [
           {
            "colorbar": {
             "outlinewidth": 0,
             "ticks": ""
            },
            "colorscale": [
             [
              0,
              "#0d0887"
             ],
             [
              0.1111111111111111,
              "#46039f"
             ],
             [
              0.2222222222222222,
              "#7201a8"
             ],
             [
              0.3333333333333333,
              "#9c179e"
             ],
             [
              0.4444444444444444,
              "#bd3786"
             ],
             [
              0.5555555555555556,
              "#d8576b"
             ],
             [
              0.6666666666666666,
              "#ed7953"
             ],
             [
              0.7777777777777778,
              "#fb9f3a"
             ],
             [
              0.8888888888888888,
              "#fdca26"
             ],
             [
              1,
              "#f0f921"
             ]
            ],
            "type": "histogram2d"
           }
          ],
          "histogram2dcontour": [
           {
            "colorbar": {
             "outlinewidth": 0,
             "ticks": ""
            },
            "colorscale": [
             [
              0,
              "#0d0887"
             ],
             [
              0.1111111111111111,
              "#46039f"
             ],
             [
              0.2222222222222222,
              "#7201a8"
             ],
             [
              0.3333333333333333,
              "#9c179e"
             ],
             [
              0.4444444444444444,
              "#bd3786"
             ],
             [
              0.5555555555555556,
              "#d8576b"
             ],
             [
              0.6666666666666666,
              "#ed7953"
             ],
             [
              0.7777777777777778,
              "#fb9f3a"
             ],
             [
              0.8888888888888888,
              "#fdca26"
             ],
             [
              1,
              "#f0f921"
             ]
            ],
            "type": "histogram2dcontour"
           }
          ],
          "mesh3d": [
           {
            "colorbar": {
             "outlinewidth": 0,
             "ticks": ""
            },
            "type": "mesh3d"
           }
          ],
          "parcoords": [
           {
            "line": {
             "colorbar": {
              "outlinewidth": 0,
              "ticks": ""
             }
            },
            "type": "parcoords"
           }
          ],
          "pie": [
           {
            "automargin": true,
            "type": "pie"
           }
          ],
          "scatter": [
           {
            "fillpattern": {
             "fillmode": "overlay",
             "size": 10,
             "solidity": 0.2
            },
            "type": "scatter"
           }
          ],
          "scatter3d": [
           {
            "line": {
             "colorbar": {
              "outlinewidth": 0,
              "ticks": ""
             }
            },
            "marker": {
             "colorbar": {
              "outlinewidth": 0,
              "ticks": ""
             }
            },
            "type": "scatter3d"
           }
          ],
          "scattercarpet": [
           {
            "marker": {
             "colorbar": {
              "outlinewidth": 0,
              "ticks": ""
             }
            },
            "type": "scattercarpet"
           }
          ],
          "scattergeo": [
           {
            "marker": {
             "colorbar": {
              "outlinewidth": 0,
              "ticks": ""
             }
            },
            "type": "scattergeo"
           }
          ],
          "scattergl": [
           {
            "marker": {
             "colorbar": {
              "outlinewidth": 0,
              "ticks": ""
             }
            },
            "type": "scattergl"
           }
          ],
          "scattermapbox": [
           {
            "marker": {
             "colorbar": {
              "outlinewidth": 0,
              "ticks": ""
             }
            },
            "type": "scattermapbox"
           }
          ],
          "scatterpolar": [
           {
            "marker": {
             "colorbar": {
              "outlinewidth": 0,
              "ticks": ""
             }
            },
            "type": "scatterpolar"
           }
          ],
          "scatterpolargl": [
           {
            "marker": {
             "colorbar": {
              "outlinewidth": 0,
              "ticks": ""
             }
            },
            "type": "scatterpolargl"
           }
          ],
          "scatterternary": [
           {
            "marker": {
             "colorbar": {
              "outlinewidth": 0,
              "ticks": ""
             }
            },
            "type": "scatterternary"
           }
          ],
          "surface": [
           {
            "colorbar": {
             "outlinewidth": 0,
             "ticks": ""
            },
            "colorscale": [
             [
              0,
              "#0d0887"
             ],
             [
              0.1111111111111111,
              "#46039f"
             ],
             [
              0.2222222222222222,
              "#7201a8"
             ],
             [
              0.3333333333333333,
              "#9c179e"
             ],
             [
              0.4444444444444444,
              "#bd3786"
             ],
             [
              0.5555555555555556,
              "#d8576b"
             ],
             [
              0.6666666666666666,
              "#ed7953"
             ],
             [
              0.7777777777777778,
              "#fb9f3a"
             ],
             [
              0.8888888888888888,
              "#fdca26"
             ],
             [
              1,
              "#f0f921"
             ]
            ],
            "type": "surface"
           }
          ],
          "table": [
           {
            "cells": {
             "fill": {
              "color": "#EBF0F8"
             },
             "line": {
              "color": "white"
             }
            },
            "header": {
             "fill": {
              "color": "#C8D4E3"
             },
             "line": {
              "color": "white"
             }
            },
            "type": "table"
           }
          ]
         },
         "layout": {
          "annotationdefaults": {
           "arrowcolor": "#2a3f5f",
           "arrowhead": 0,
           "arrowwidth": 1
          },
          "autotypenumbers": "strict",
          "coloraxis": {
           "colorbar": {
            "outlinewidth": 0,
            "ticks": ""
           }
          },
          "colorscale": {
           "diverging": [
            [
             0,
             "#8e0152"
            ],
            [
             0.1,
             "#c51b7d"
            ],
            [
             0.2,
             "#de77ae"
            ],
            [
             0.3,
             "#f1b6da"
            ],
            [
             0.4,
             "#fde0ef"
            ],
            [
             0.5,
             "#f7f7f7"
            ],
            [
             0.6,
             "#e6f5d0"
            ],
            [
             0.7,
             "#b8e186"
            ],
            [
             0.8,
             "#7fbc41"
            ],
            [
             0.9,
             "#4d9221"
            ],
            [
             1,
             "#276419"
            ]
           ],
           "sequential": [
            [
             0,
             "#0d0887"
            ],
            [
             0.1111111111111111,
             "#46039f"
            ],
            [
             0.2222222222222222,
             "#7201a8"
            ],
            [
             0.3333333333333333,
             "#9c179e"
            ],
            [
             0.4444444444444444,
             "#bd3786"
            ],
            [
             0.5555555555555556,
             "#d8576b"
            ],
            [
             0.6666666666666666,
             "#ed7953"
            ],
            [
             0.7777777777777778,
             "#fb9f3a"
            ],
            [
             0.8888888888888888,
             "#fdca26"
            ],
            [
             1,
             "#f0f921"
            ]
           ],
           "sequentialminus": [
            [
             0,
             "#0d0887"
            ],
            [
             0.1111111111111111,
             "#46039f"
            ],
            [
             0.2222222222222222,
             "#7201a8"
            ],
            [
             0.3333333333333333,
             "#9c179e"
            ],
            [
             0.4444444444444444,
             "#bd3786"
            ],
            [
             0.5555555555555556,
             "#d8576b"
            ],
            [
             0.6666666666666666,
             "#ed7953"
            ],
            [
             0.7777777777777778,
             "#fb9f3a"
            ],
            [
             0.8888888888888888,
             "#fdca26"
            ],
            [
             1,
             "#f0f921"
            ]
           ]
          },
          "colorway": [
           "#636efa",
           "#EF553B",
           "#00cc96",
           "#ab63fa",
           "#FFA15A",
           "#19d3f3",
           "#FF6692",
           "#B6E880",
           "#FF97FF",
           "#FECB52"
          ],
          "font": {
           "color": "#2a3f5f"
          },
          "geo": {
           "bgcolor": "white",
           "lakecolor": "white",
           "landcolor": "white",
           "showlakes": true,
           "showland": true,
           "subunitcolor": "#C8D4E3"
          },
          "hoverlabel": {
           "align": "left"
          },
          "hovermode": "closest",
          "mapbox": {
           "style": "light"
          },
          "paper_bgcolor": "white",
          "plot_bgcolor": "white",
          "polar": {
           "angularaxis": {
            "gridcolor": "#EBF0F8",
            "linecolor": "#EBF0F8",
            "ticks": ""
           },
           "bgcolor": "white",
           "radialaxis": {
            "gridcolor": "#EBF0F8",
            "linecolor": "#EBF0F8",
            "ticks": ""
           }
          },
          "scene": {
           "xaxis": {
            "backgroundcolor": "white",
            "gridcolor": "#DFE8F3",
            "gridwidth": 2,
            "linecolor": "#EBF0F8",
            "showbackground": true,
            "ticks": "",
            "zerolinecolor": "#EBF0F8"
           },
           "yaxis": {
            "backgroundcolor": "white",
            "gridcolor": "#DFE8F3",
            "gridwidth": 2,
            "linecolor": "#EBF0F8",
            "showbackground": true,
            "ticks": "",
            "zerolinecolor": "#EBF0F8"
           },
           "zaxis": {
            "backgroundcolor": "white",
            "gridcolor": "#DFE8F3",
            "gridwidth": 2,
            "linecolor": "#EBF0F8",
            "showbackground": true,
            "ticks": "",
            "zerolinecolor": "#EBF0F8"
           }
          },
          "shapedefaults": {
           "line": {
            "color": "#2a3f5f"
           }
          },
          "ternary": {
           "aaxis": {
            "gridcolor": "#DFE8F3",
            "linecolor": "#A2B1C6",
            "ticks": ""
           },
           "baxis": {
            "gridcolor": "#DFE8F3",
            "linecolor": "#A2B1C6",
            "ticks": ""
           },
           "bgcolor": "white",
           "caxis": {
            "gridcolor": "#DFE8F3",
            "linecolor": "#A2B1C6",
            "ticks": ""
           }
          },
          "title": {
           "x": 0.05
          },
          "xaxis": {
           "automargin": true,
           "gridcolor": "#EBF0F8",
           "linecolor": "#EBF0F8",
           "ticks": "",
           "title": {
            "standoff": 15
           },
           "zerolinecolor": "#EBF0F8",
           "zerolinewidth": 2
          },
          "yaxis": {
           "automargin": true,
           "gridcolor": "#EBF0F8",
           "linecolor": "#EBF0F8",
           "ticks": "",
           "title": {
            "standoff": 15
           },
           "zerolinecolor": "#EBF0F8",
           "zerolinewidth": 2
          }
         }
        },
        "title": {
         "font": {
          "size": 24
         },
         "text": "Model Confidence vs Transition Tendency by Sleep Stage",
         "x": 0.5
        },
        "width": 1200,
        "xaxis": {
         "tickangle": 0,
         "title": {
          "font": {
           "size": 14
          },
          "text": "Transition Tendency (0=Stable → 1=Transitioning)"
         }
        },
        "yaxis": {
         "range": [
          0,
          1
         ],
         "tickformat": ".0%",
         "title": {
          "font": {
           "size": 14
          },
          "text": "Average Confidence"
         }
        }
       }
      },
      "text/html": [
       "<div>                            <div id=\"c6421d9c-aa83-42d7-b2b0-72f23f191ada\" class=\"plotly-graph-div\" style=\"height:700px; width:1200px;\"></div>            <script type=\"text/javascript\">                require([\"plotly\"], function(Plotly) {                    window.PLOTLYENV=window.PLOTLYENV || {};                                    if (document.getElementById(\"c6421d9c-aa83-42d7-b2b0-72f23f191ada\")) {                    Plotly.newPlot(                        \"c6421d9c-aa83-42d7-b2b0-72f23f191ada\",                        [{\"error_y\":{\"array\":[0.13657220218851757,0.15919001152661189,0.1326881923105108,0.13932714465100707,0.14355146857693768],\"type\":\"data\",\"visible\":true},\"hovertemplate\":\"\\u003cb\\u003eN3 (Deep)\\u003c\\u002fb\\u003e\\u003cbr\\u003eTransition Range: %{x}\\u003cbr\\u003eAvg Confidence: %{y:.3f}\\u003cbr\\u003eStd Dev: %{error_y.array:.3f}\\u003cbr\\u003e%{text}\\u003cextra\\u003e\\u003c\\u002fextra\\u003e\",\"marker\":{\"color\":\"#1f77b4\"},\"name\":\"N3 (Deep)\",\"text\":[\"n=656\",\"n=14\",\"n=365\",\"n=256\",\"n=316\"],\"textposition\":\"auto\",\"x\":[\"0.0-0.2\",\"0.2-0.4\",\"0.4-0.6\",\"0.6-0.8\",\"0.8-1.0\"],\"y\":[0.8511909428620483,0.8023169338703156,0.8381217118811934,0.823271382600069,0.8232013287989399],\"type\":\"bar\"},{\"error_y\":{\"array\":[0.10114517163465662,0.08813260907466584,0.11733772209256348,0.11265810075992506,0.1298091773739722],\"type\":\"data\",\"visible\":true},\"hovertemplate\":\"\\u003cb\\u003eN2 (Light)\\u003c\\u002fb\\u003e\\u003cbr\\u003eTransition Range: %{x}\\u003cbr\\u003eAvg Confidence: %{y:.3f}\\u003cbr\\u003eStd Dev: %{error_y.array:.3f}\\u003cbr\\u003e%{text}\\u003cextra\\u003e\\u003c\\u002fextra\\u003e\",\"marker\":{\"color\":\"#2ca02c\"},\"name\":\"N2 (Light)\",\"text\":[\"n=3265\",\"n=62\",\"n=1451\",\"n=1214\",\"n=1422\"],\"textposition\":\"auto\",\"x\":[\"0.0-0.2\",\"0.2-0.4\",\"0.4-0.6\",\"0.6-0.8\",\"0.8-1.0\"],\"y\":[0.786640187043691,0.7871657701269272,0.7692768899101294,0.7756558796375548,0.7574017817880199],\"type\":\"bar\"},{\"error_y\":{\"array\":[0.16022553122037736,0,0.1632263590847703,0.1797350281009431,0.16507985749029214],\"type\":\"data\",\"visible\":true},\"hovertemplate\":\"\\u003cb\\u003eN1 (Light)\\u003c\\u002fb\\u003e\\u003cbr\\u003eTransition Range: %{x}\\u003cbr\\u003eAvg Confidence: %{y:.3f}\\u003cbr\\u003eStd Dev: %{error_y.array:.3f}\\u003cbr\\u003e%{text}\\u003cextra\\u003e\\u003c\\u002fextra\\u003e\",\"marker\":{\"color\":\"#98df8a\"},\"name\":\"N1 (Light)\",\"text\":[\"n=63\",\"n=0\",\"n=445\",\"n=132\",\"n=456\"],\"textposition\":\"auto\",\"x\":[\"0.0-0.2\",\"0.2-0.4\",\"0.4-0.6\",\"0.6-0.8\",\"0.8-1.0\"],\"y\":[0.8517698910501268,0,0.8340270885590757,0.8211980583992872,0.8302743192435357],\"type\":\"bar\"},{\"error_y\":{\"array\":[0.13784211458844928,0.14641051707608016,0.14096254676035647,0.1381091061438909,0.16665021414114634],\"type\":\"data\",\"visible\":true},\"hovertemplate\":\"\\u003cb\\u003eREM\\u003c\\u002fb\\u003e\\u003cbr\\u003eTransition Range: %{x}\\u003cbr\\u003eAvg Confidence: %{y:.3f}\\u003cbr\\u003eStd Dev: %{error_y.array:.3f}\\u003cbr\\u003e%{text}\\u003cextra\\u003e\\u003c\\u002fextra\\u003e\",\"marker\":{\"color\":\"#ff7f0e\"},\"name\":\"REM\",\"text\":[\"n=1344\",\"n=22\",\"n=542\",\"n=474\",\"n=506\"],\"textposition\":\"auto\",\"x\":[\"0.0-0.2\",\"0.2-0.4\",\"0.4-0.6\",\"0.6-0.8\",\"0.8-1.0\"],\"y\":[0.8572872206790462,0.8554302941669117,0.8556643990572969,0.8498473610681824,0.8170736733632596],\"type\":\"bar\"},{\"error_y\":{\"array\":[0.08599589459689795,0.10417170074131005,0.12945980418847444,0.1044801559240135,0.15353152797388953],\"type\":\"data\",\"visible\":true},\"hovertemplate\":\"\\u003cb\\u003eWake\\u003c\\u002fb\\u003e\\u003cbr\\u003eTransition Range: %{x}\\u003cbr\\u003eAvg Confidence: %{y:.3f}\\u003cbr\\u003eStd Dev: %{error_y.array:.3f}\\u003cbr\\u003e%{text}\\u003cextra\\u003e\\u003c\\u002fextra\\u003e\",\"marker\":{\"color\":\"#d62728\"},\"name\":\"Wake\",\"text\":[\"n=1026\",\"n=52\",\"n=662\",\"n=340\",\"n=486\"],\"textposition\":\"auto\",\"x\":[\"0.0-0.2\",\"0.2-0.4\",\"0.4-0.6\",\"0.6-0.8\",\"0.8-1.0\"],\"y\":[0.8737651546854257,0.8705860938017185,0.8389303665326802,0.8657295755603734,0.8145558002554341],\"type\":\"bar\"},{\"error_y\":{\"array\":[0.11867842554538971,0.11819980271508945,0.13670118048803837,0.1297857943958043,0.1499641132964624],\"type\":\"data\",\"visible\":true},\"hovertemplate\":\"\\u003cb\\u003eOverall Average\\u003c\\u002fb\\u003e\\u003cbr\\u003eTransition Range: %{x}\\u003cbr\\u003eAvg Confidence: %{y:.3f}\\u003cbr\\u003eStd Dev: %{error_y.array:.3f}\\u003cbr\\u003e\\u003cextra\\u003e\\u003c\\u002fextra\\u003e\",\"line\":{\"color\":\"#7f7f7f\",\"dash\":\"dot\",\"width\":3},\"marker\":{\"size\":10,\"symbol\":\"diamond\"},\"mode\":\"lines+markers\",\"name\":\"Overall Average\",\"x\":[\"0.0-0.2\",\"0.2-0.4\",\"0.4-0.6\",\"0.6-0.8\",\"0.8-1.0\"],\"y\":[0.8229619209397541,0.8275110544761022,0.8116650082074203,0.8104211756503148,0.7925534968060364],\"type\":\"scatter\"}],                        {\"template\":{\"data\":{\"barpolar\":[{\"marker\":{\"line\":{\"color\":\"white\",\"width\":0.5},\"pattern\":{\"fillmode\":\"overlay\",\"size\":10,\"solidity\":0.2}},\"type\":\"barpolar\"}],\"bar\":[{\"error_x\":{\"color\":\"#2a3f5f\"},\"error_y\":{\"color\":\"#2a3f5f\"},\"marker\":{\"line\":{\"color\":\"white\",\"width\":0.5},\"pattern\":{\"fillmode\":\"overlay\",\"size\":10,\"solidity\":0.2}},\"type\":\"bar\"}],\"carpet\":[{\"aaxis\":{\"endlinecolor\":\"#2a3f5f\",\"gridcolor\":\"#C8D4E3\",\"linecolor\":\"#C8D4E3\",\"minorgridcolor\":\"#C8D4E3\",\"startlinecolor\":\"#2a3f5f\"},\"baxis\":{\"endlinecolor\":\"#2a3f5f\",\"gridcolor\":\"#C8D4E3\",\"linecolor\":\"#C8D4E3\",\"minorgridcolor\":\"#C8D4E3\",\"startlinecolor\":\"#2a3f5f\"},\"type\":\"carpet\"}],\"choropleth\":[{\"colorbar\":{\"outlinewidth\":0,\"ticks\":\"\"},\"type\":\"choropleth\"}],\"contourcarpet\":[{\"colorbar\":{\"outlinewidth\":0,\"ticks\":\"\"},\"type\":\"contourcarpet\"}],\"contour\":[{\"colorbar\":{\"outlinewidth\":0,\"ticks\":\"\"},\"colorscale\":[[0.0,\"#0d0887\"],[0.1111111111111111,\"#46039f\"],[0.2222222222222222,\"#7201a8\"],[0.3333333333333333,\"#9c179e\"],[0.4444444444444444,\"#bd3786\"],[0.5555555555555556,\"#d8576b\"],[0.6666666666666666,\"#ed7953\"],[0.7777777777777778,\"#fb9f3a\"],[0.8888888888888888,\"#fdca26\"],[1.0,\"#f0f921\"]],\"type\":\"contour\"}],\"heatmapgl\":[{\"colorbar\":{\"outlinewidth\":0,\"ticks\":\"\"},\"colorscale\":[[0.0,\"#0d0887\"],[0.1111111111111111,\"#46039f\"],[0.2222222222222222,\"#7201a8\"],[0.3333333333333333,\"#9c179e\"],[0.4444444444444444,\"#bd3786\"],[0.5555555555555556,\"#d8576b\"],[0.6666666666666666,\"#ed7953\"],[0.7777777777777778,\"#fb9f3a\"],[0.8888888888888888,\"#fdca26\"],[1.0,\"#f0f921\"]],\"type\":\"heatmapgl\"}],\"heatmap\":[{\"colorbar\":{\"outlinewidth\":0,\"ticks\":\"\"},\"colorscale\":[[0.0,\"#0d0887\"],[0.1111111111111111,\"#46039f\"],[0.2222222222222222,\"#7201a8\"],[0.3333333333333333,\"#9c179e\"],[0.4444444444444444,\"#bd3786\"],[0.5555555555555556,\"#d8576b\"],[0.6666666666666666,\"#ed7953\"],[0.7777777777777778,\"#fb9f3a\"],[0.8888888888888888,\"#fdca26\"],[1.0,\"#f0f921\"]],\"type\":\"heatmap\"}],\"histogram2dcontour\":[{\"colorbar\":{\"outlinewidth\":0,\"ticks\":\"\"},\"colorscale\":[[0.0,\"#0d0887\"],[0.1111111111111111,\"#46039f\"],[0.2222222222222222,\"#7201a8\"],[0.3333333333333333,\"#9c179e\"],[0.4444444444444444,\"#bd3786\"],[0.5555555555555556,\"#d8576b\"],[0.6666666666666666,\"#ed7953\"],[0.7777777777777778,\"#fb9f3a\"],[0.8888888888888888,\"#fdca26\"],[1.0,\"#f0f921\"]],\"type\":\"histogram2dcontour\"}],\"histogram2d\":[{\"colorbar\":{\"outlinewidth\":0,\"ticks\":\"\"},\"colorscale\":[[0.0,\"#0d0887\"],[0.1111111111111111,\"#46039f\"],[0.2222222222222222,\"#7201a8\"],[0.3333333333333333,\"#9c179e\"],[0.4444444444444444,\"#bd3786\"],[0.5555555555555556,\"#d8576b\"],[0.6666666666666666,\"#ed7953\"],[0.7777777777777778,\"#fb9f3a\"],[0.8888888888888888,\"#fdca26\"],[1.0,\"#f0f921\"]],\"type\":\"histogram2d\"}],\"histogram\":[{\"marker\":{\"pattern\":{\"fillmode\":\"overlay\",\"size\":10,\"solidity\":0.2}},\"type\":\"histogram\"}],\"mesh3d\":[{\"colorbar\":{\"outlinewidth\":0,\"ticks\":\"\"},\"type\":\"mesh3d\"}],\"parcoords\":[{\"line\":{\"colorbar\":{\"outlinewidth\":0,\"ticks\":\"\"}},\"type\":\"parcoords\"}],\"pie\":[{\"automargin\":true,\"type\":\"pie\"}],\"scatter3d\":[{\"line\":{\"colorbar\":{\"outlinewidth\":0,\"ticks\":\"\"}},\"marker\":{\"colorbar\":{\"outlinewidth\":0,\"ticks\":\"\"}},\"type\":\"scatter3d\"}],\"scattercarpet\":[{\"marker\":{\"colorbar\":{\"outlinewidth\":0,\"ticks\":\"\"}},\"type\":\"scattercarpet\"}],\"scattergeo\":[{\"marker\":{\"colorbar\":{\"outlinewidth\":0,\"ticks\":\"\"}},\"type\":\"scattergeo\"}],\"scattergl\":[{\"marker\":{\"colorbar\":{\"outlinewidth\":0,\"ticks\":\"\"}},\"type\":\"scattergl\"}],\"scattermapbox\":[{\"marker\":{\"colorbar\":{\"outlinewidth\":0,\"ticks\":\"\"}},\"type\":\"scattermapbox\"}],\"scatterpolargl\":[{\"marker\":{\"colorbar\":{\"outlinewidth\":0,\"ticks\":\"\"}},\"type\":\"scatterpolargl\"}],\"scatterpolar\":[{\"marker\":{\"colorbar\":{\"outlinewidth\":0,\"ticks\":\"\"}},\"type\":\"scatterpolar\"}],\"scatter\":[{\"fillpattern\":{\"fillmode\":\"overlay\",\"size\":10,\"solidity\":0.2},\"type\":\"scatter\"}],\"scatterternary\":[{\"marker\":{\"colorbar\":{\"outlinewidth\":0,\"ticks\":\"\"}},\"type\":\"scatterternary\"}],\"surface\":[{\"colorbar\":{\"outlinewidth\":0,\"ticks\":\"\"},\"colorscale\":[[0.0,\"#0d0887\"],[0.1111111111111111,\"#46039f\"],[0.2222222222222222,\"#7201a8\"],[0.3333333333333333,\"#9c179e\"],[0.4444444444444444,\"#bd3786\"],[0.5555555555555556,\"#d8576b\"],[0.6666666666666666,\"#ed7953\"],[0.7777777777777778,\"#fb9f3a\"],[0.8888888888888888,\"#fdca26\"],[1.0,\"#f0f921\"]],\"type\":\"surface\"}],\"table\":[{\"cells\":{\"fill\":{\"color\":\"#EBF0F8\"},\"line\":{\"color\":\"white\"}},\"header\":{\"fill\":{\"color\":\"#C8D4E3\"},\"line\":{\"color\":\"white\"}},\"type\":\"table\"}]},\"layout\":{\"annotationdefaults\":{\"arrowcolor\":\"#2a3f5f\",\"arrowhead\":0,\"arrowwidth\":1},\"autotypenumbers\":\"strict\",\"coloraxis\":{\"colorbar\":{\"outlinewidth\":0,\"ticks\":\"\"}},\"colorscale\":{\"diverging\":[[0,\"#8e0152\"],[0.1,\"#c51b7d\"],[0.2,\"#de77ae\"],[0.3,\"#f1b6da\"],[0.4,\"#fde0ef\"],[0.5,\"#f7f7f7\"],[0.6,\"#e6f5d0\"],[0.7,\"#b8e186\"],[0.8,\"#7fbc41\"],[0.9,\"#4d9221\"],[1,\"#276419\"]],\"sequential\":[[0.0,\"#0d0887\"],[0.1111111111111111,\"#46039f\"],[0.2222222222222222,\"#7201a8\"],[0.3333333333333333,\"#9c179e\"],[0.4444444444444444,\"#bd3786\"],[0.5555555555555556,\"#d8576b\"],[0.6666666666666666,\"#ed7953\"],[0.7777777777777778,\"#fb9f3a\"],[0.8888888888888888,\"#fdca26\"],[1.0,\"#f0f921\"]],\"sequentialminus\":[[0.0,\"#0d0887\"],[0.1111111111111111,\"#46039f\"],[0.2222222222222222,\"#7201a8\"],[0.3333333333333333,\"#9c179e\"],[0.4444444444444444,\"#bd3786\"],[0.5555555555555556,\"#d8576b\"],[0.6666666666666666,\"#ed7953\"],[0.7777777777777778,\"#fb9f3a\"],[0.8888888888888888,\"#fdca26\"],[1.0,\"#f0f921\"]]},\"colorway\":[\"#636efa\",\"#EF553B\",\"#00cc96\",\"#ab63fa\",\"#FFA15A\",\"#19d3f3\",\"#FF6692\",\"#B6E880\",\"#FF97FF\",\"#FECB52\"],\"font\":{\"color\":\"#2a3f5f\"},\"geo\":{\"bgcolor\":\"white\",\"lakecolor\":\"white\",\"landcolor\":\"white\",\"showlakes\":true,\"showland\":true,\"subunitcolor\":\"#C8D4E3\"},\"hoverlabel\":{\"align\":\"left\"},\"hovermode\":\"closest\",\"mapbox\":{\"style\":\"light\"},\"paper_bgcolor\":\"white\",\"plot_bgcolor\":\"white\",\"polar\":{\"angularaxis\":{\"gridcolor\":\"#EBF0F8\",\"linecolor\":\"#EBF0F8\",\"ticks\":\"\"},\"bgcolor\":\"white\",\"radialaxis\":{\"gridcolor\":\"#EBF0F8\",\"linecolor\":\"#EBF0F8\",\"ticks\":\"\"}},\"scene\":{\"xaxis\":{\"backgroundcolor\":\"white\",\"gridcolor\":\"#DFE8F3\",\"gridwidth\":2,\"linecolor\":\"#EBF0F8\",\"showbackground\":true,\"ticks\":\"\",\"zerolinecolor\":\"#EBF0F8\"},\"yaxis\":{\"backgroundcolor\":\"white\",\"gridcolor\":\"#DFE8F3\",\"gridwidth\":2,\"linecolor\":\"#EBF0F8\",\"showbackground\":true,\"ticks\":\"\",\"zerolinecolor\":\"#EBF0F8\"},\"zaxis\":{\"backgroundcolor\":\"white\",\"gridcolor\":\"#DFE8F3\",\"gridwidth\":2,\"linecolor\":\"#EBF0F8\",\"showbackground\":true,\"ticks\":\"\",\"zerolinecolor\":\"#EBF0F8\"}},\"shapedefaults\":{\"line\":{\"color\":\"#2a3f5f\"}},\"ternary\":{\"aaxis\":{\"gridcolor\":\"#DFE8F3\",\"linecolor\":\"#A2B1C6\",\"ticks\":\"\"},\"baxis\":{\"gridcolor\":\"#DFE8F3\",\"linecolor\":\"#A2B1C6\",\"ticks\":\"\"},\"bgcolor\":\"white\",\"caxis\":{\"gridcolor\":\"#DFE8F3\",\"linecolor\":\"#A2B1C6\",\"ticks\":\"\"}},\"title\":{\"x\":0.05},\"xaxis\":{\"automargin\":true,\"gridcolor\":\"#EBF0F8\",\"linecolor\":\"#EBF0F8\",\"ticks\":\"\",\"title\":{\"standoff\":15},\"zerolinecolor\":\"#EBF0F8\",\"zerolinewidth\":2},\"yaxis\":{\"automargin\":true,\"gridcolor\":\"#EBF0F8\",\"linecolor\":\"#EBF0F8\",\"ticks\":\"\",\"title\":{\"standoff\":15},\"zerolinecolor\":\"#EBF0F8\",\"zerolinewidth\":2}}},\"title\":{\"font\":{\"size\":24},\"text\":\"Model Confidence vs Transition Tendency by Sleep Stage\",\"x\":0.5},\"xaxis\":{\"title\":{\"font\":{\"size\":14},\"text\":\"Transition Tendency (0=Stable \\u2192 1=Transitioning)\"},\"tickangle\":0},\"yaxis\":{\"title\":{\"font\":{\"size\":14},\"text\":\"Average Confidence\"},\"range\":[0,1],\"tickformat\":\".0%\"},\"legend\":{\"yanchor\":\"top\",\"y\":0.99,\"xanchor\":\"right\",\"x\":0.99,\"bgcolor\":\"rgba(255, 255, 255, 0.8)\"},\"barmode\":\"group\",\"bargap\":0.15,\"bargroupgap\":0.1,\"height\":700,\"width\":1200,\"showlegend\":true,\"annotations\":[{\"bgcolor\":\"rgba(255, 255, 255, 0.8)\",\"font\":{\"size\":12},\"showarrow\":false,\"text\":\"Total Samples: 15,571\",\"x\":0.01,\"xref\":\"paper\",\"y\":0.99,\"yref\":\"paper\"}]},                        {\"responsive\": true}                    ).then(function(){\n",
       "                            \n",
       "var gd = document.getElementById('c6421d9c-aa83-42d7-b2b0-72f23f191ada');\n",
       "var x = new MutationObserver(function (mutations, observer) {{\n",
       "        var display = window.getComputedStyle(gd).display;\n",
       "        if (!display || display === 'none') {{\n",
       "            console.log([gd, 'removed!']);\n",
       "            Plotly.purge(gd);\n",
       "            observer.disconnect();\n",
       "        }}\n",
       "}});\n",
       "\n",
       "// Listen for the removal of the full notebook cells\n",
       "var notebookContainer = gd.closest('#notebook-container');\n",
       "if (notebookContainer) {{\n",
       "    x.observe(notebookContainer, {childList: true});\n",
       "}}\n",
       "\n",
       "// Listen for the clearing of the current output cell\n",
       "var outputEl = gd.closest('.output');\n",
       "if (outputEl) {{\n",
       "    x.observe(outputEl, {childList: true});\n",
       "}}\n",
       "\n",
       "                        })                };                });            </script>        </div>"
      ]
     },
     "metadata": {},
     "output_type": "display_data"
    }
   ],
   "source": [
    "import plotly.graph_objects as go\n",
    "\n",
    "def create_confidence_transition_analysis(results: Dict) -> go.Figure:\n",
    "    \"\"\"\n",
    "    Create grouped bar analysis of model confidence vs transition tendency\n",
    "    \"\"\"\n",
    "    # Create bins for transition tendency\n",
    "    n_bins = 5\n",
    "    tendency_bins = np.linspace(0, 1, n_bins+1)\n",
    "    bin_labels = [f\"{tendency_bins[i]:.1f}-{tendency_bins[i+1]:.1f}\" \n",
    "                 for i in range(n_bins)]\n",
    "    \n",
    "    sleep_stages = {\n",
    "        0: 'N3 (Deep)',\n",
    "        1: 'N2 (Light)',\n",
    "        2: 'N1 (Light)',\n",
    "        3: 'REM',\n",
    "        4: 'Wake'\n",
    "    }\n",
    "    \n",
    "    # Initialize data structures\n",
    "    stage_data = {stage: {bin_label: [] for bin_label in bin_labels} \n",
    "                 for stage in sleep_stages.keys()}\n",
    "    \n",
    "    # Bin the data\n",
    "    for i in range(len(results['true_labels'])):\n",
    "        true_label = results['true_labels'][i]\n",
    "        tendency_val = np.clip(results['tendencies'][i], 0, 1)\n",
    "        confidence_val = results['confidences'][i]\n",
    "        \n",
    "        bin_idx = min(int(tendency_val * n_bins), n_bins-1)\n",
    "        stage_data[true_label][bin_labels[bin_idx]].append(confidence_val)\n",
    "    \n",
    "    # Calculate statistics\n",
    "    stats = {}\n",
    "    overall_stats = {bin_label: [] for bin_label in bin_labels}\n",
    "    \n",
    "    for stage in sleep_stages.keys():\n",
    "        stats[stage] = {}\n",
    "        for bin_label in bin_labels:\n",
    "            values = stage_data[stage][bin_label]\n",
    "            stats[stage][bin_label] = {\n",
    "                'mean': np.mean(values) if values else 0,\n",
    "                'std': np.std(values) if values else 0,\n",
    "                'count': len(values)\n",
    "            }\n",
    "            overall_stats[bin_label].extend(values)\n",
    "    \n",
    "    # Calculate overall statistics\n",
    "    overall_means = {bin_label: np.mean(values) if values else 0 \n",
    "                    for bin_label, values in overall_stats.items()}\n",
    "    overall_stds = {bin_label: np.std(values) if values else 0 \n",
    "                   for bin_label, values in overall_stats.items()}\n",
    "    \n",
    "    # Create figure\n",
    "    fig = go.Figure()\n",
    "    \n",
    "    # Color scheme - using a more distinct palette\n",
    "    colors = {\n",
    "        0: '#1f77b4',  # Deep blue for N3\n",
    "        1: '#2ca02c',  # Green for N2\n",
    "        2: '#98df8a',  # Light green for N1\n",
    "        3: '#ff7f0e',  # Orange for REM\n",
    "        4: '#d62728',  # Red for Wake\n",
    "        'overall': '#7f7f7f'  # Gray for overall\n",
    "    }\n",
    "    \n",
    "    # Add bars for each sleep stage\n",
    "    for stage in sleep_stages.keys():\n",
    "        stage_stats = stats[stage]\n",
    "        \n",
    "        fig.add_trace(\n",
    "            go.Bar(\n",
    "                name=sleep_stages[stage],\n",
    "                x=bin_labels,\n",
    "                y=[stage_stats[bin]['mean'] for bin in bin_labels],\n",
    "                error_y=dict(\n",
    "                    type='data',\n",
    "                    array=[stage_stats[bin]['std'] for bin in bin_labels],\n",
    "                    visible=True\n",
    "                ),\n",
    "                text=[f\"n={stage_stats[bin]['count']}\" for bin in bin_labels],\n",
    "                textposition='auto',\n",
    "                marker_color=colors[stage],\n",
    "                hovertemplate=(\n",
    "                    f\"<b>{sleep_stages[stage]}</b><br>\" +\n",
    "                    \"Transition Range: %{x}<br>\" +\n",
    "                    \"Avg Confidence: %{y:.3f}<br>\" +\n",
    "                    \"Std Dev: %{error_y.array:.3f}<br>\" +\n",
    "                    \"%{text}<extra></extra>\"\n",
    "                )\n",
    "            )\n",
    "        )\n",
    "    \n",
    "    # Add overall average line\n",
    "    fig.add_trace(\n",
    "        go.Scatter(\n",
    "            name='Overall Average',\n",
    "            x=bin_labels,\n",
    "            y=[overall_means[bin] for bin in bin_labels],\n",
    "            mode='lines+markers',\n",
    "            line=dict(\n",
    "                color=colors['overall'],\n",
    "                width=3,\n",
    "                dash='dot'\n",
    "            ),\n",
    "            marker=dict(\n",
    "                size=10,\n",
    "                symbol='diamond'\n",
    "            ),\n",
    "            error_y=dict(\n",
    "                type='data',\n",
    "                array=[overall_stds[bin] for bin in bin_labels],\n",
    "                visible=True\n",
    "            ),\n",
    "            hovertemplate=(\n",
    "                \"<b>Overall Average</b><br>\" +\n",
    "                \"Transition Range: %{x}<br>\" +\n",
    "                \"Avg Confidence: %{y:.3f}<br>\" +\n",
    "                \"Std Dev: %{error_y.array:.3f}<br>\" +\n",
    "                \"<extra></extra>\"\n",
    "            )\n",
    "        )\n",
    "    )\n",
    "    \n",
    "    # Update layout\n",
    "    fig.update_layout(\n",
    "        title=dict(\n",
    "            text=\"Model Confidence vs Transition Tendency by Sleep Stage\",\n",
    "            x=0.5,\n",
    "            font=dict(size=24)\n",
    "        ),\n",
    "        xaxis=dict(\n",
    "            title=dict(\n",
    "                text=\"Transition Tendency (0=Stable → 1=Transitioning)\",\n",
    "                font=dict(size=14)\n",
    "            ),\n",
    "            tickangle=0\n",
    "        ),\n",
    "        yaxis=dict(\n",
    "            title=dict(\n",
    "                text=\"Average Confidence\",\n",
    "                font=dict(size=14)\n",
    "            ),\n",
    "            range=[0, 1],\n",
    "            tickformat='.0%'\n",
    "        ),\n",
    "        barmode='group',\n",
    "        bargap=0.15,\n",
    "        bargroupgap=0.1,\n",
    "        height=700,\n",
    "        width=1200,\n",
    "        showlegend=True,\n",
    "        legend=dict(\n",
    "            yanchor=\"top\",\n",
    "            y=0.99,\n",
    "            xanchor=\"right\",\n",
    "            x=0.99,\n",
    "            bgcolor=\"rgba(255, 255, 255, 0.8)\"\n",
    "        ),\n",
    "        template=\"plotly_white\"\n",
    "    )\n",
    "    \n",
    "    # Add annotation for sample sizes\n",
    "    total_samples = sum(sum(stats[s][bin]['count'] for bin in bin_labels) \n",
    "                       for s in sleep_stages.keys())\n",
    "    fig.add_annotation(\n",
    "        text=f\"Total Samples: {total_samples:,}\",\n",
    "        xref=\"paper\",\n",
    "        yref=\"paper\",\n",
    "        x=0.01,\n",
    "        y=0.99,\n",
    "        showarrow=False,\n",
    "        font=dict(size=12),\n",
    "        bgcolor=\"rgba(255, 255, 255, 0.8)\"\n",
    "    )\n",
    "    \n",
    "    return fig\n",
    "\n",
    "\n",
    "fig2 = create_confidence_transition_analysis(results)\n",
    "fig2.show()\n",
    "fig2.write_html(\"confidence_analysis.html\")"
   ]
  },
  {
   "cell_type": "code",
   "execution_count": 30,
   "metadata": {},
   "outputs": [
    {
     "data": {
      "application/vnd.plotly.v1+json": {
       "config": {
        "plotlyServerURL": "https://plot.ly"
       },
       "data": [
        {
         "error_y": {
          "array": [
           0.13657220218851757,
           0.15919001152661189,
           0.1326881923105108,
           0.13932714465100707,
           0.14355146857693768
          ],
          "type": "data",
          "visible": true
         },
         "hovertemplate": "<b>N3 (Deep)</b><br>Transition Range: %{x}<br>Avg Confidence: %{y:.3f}<br>Std Dev: %{error_y.array:.3f}<br>%{text}<extra></extra>",
         "marker": {
          "color": "#1f77b4"
         },
         "name": "N3 (Deep)",
         "text": [
          "n=656",
          "n=14",
          "n=365",
          "n=256",
          "n=316"
         ],
         "textposition": "auto",
         "type": "bar",
         "x": [
          "0.0-0.2",
          "0.2-0.4",
          "0.4-0.6",
          "0.6-0.8",
          "0.8-1.0"
         ],
         "xaxis": "x",
         "y": [
          0.8511909428620483,
          0.8023169338703156,
          0.8381217118811934,
          0.823271382600069,
          0.8232013287989399
         ],
         "yaxis": "y"
        },
        {
         "error_y": {
          "array": [
           0.10114517163465662,
           0.08813260907466584,
           0.11733772209256348,
           0.11265810075992506,
           0.1298091773739722
          ],
          "type": "data",
          "visible": true
         },
         "hovertemplate": "<b>N2 (Light)</b><br>Transition Range: %{x}<br>Avg Confidence: %{y:.3f}<br>Std Dev: %{error_y.array:.3f}<br>%{text}<extra></extra>",
         "marker": {
          "color": "#2ca02c"
         },
         "name": "N2 (Light)",
         "text": [
          "n=3265",
          "n=62",
          "n=1451",
          "n=1214",
          "n=1422"
         ],
         "textposition": "auto",
         "type": "bar",
         "x": [
          "0.0-0.2",
          "0.2-0.4",
          "0.4-0.6",
          "0.6-0.8",
          "0.8-1.0"
         ],
         "xaxis": "x",
         "y": [
          0.786640187043691,
          0.7871657701269272,
          0.7692768899101294,
          0.7756558796375548,
          0.7574017817880199
         ],
         "yaxis": "y"
        },
        {
         "error_y": {
          "array": [
           0.16022553122037736,
           0,
           0.1632263590847703,
           0.1797350281009431,
           0.16507985749029214
          ],
          "type": "data",
          "visible": true
         },
         "hovertemplate": "<b>N1 (Light)</b><br>Transition Range: %{x}<br>Avg Confidence: %{y:.3f}<br>Std Dev: %{error_y.array:.3f}<br>%{text}<extra></extra>",
         "marker": {
          "color": "#98df8a"
         },
         "name": "N1 (Light)",
         "text": [
          "n=63",
          "n=0",
          "n=445",
          "n=132",
          "n=456"
         ],
         "textposition": "auto",
         "type": "bar",
         "x": [
          "0.0-0.2",
          "0.2-0.4",
          "0.4-0.6",
          "0.6-0.8",
          "0.8-1.0"
         ],
         "xaxis": "x",
         "y": [
          0.8517698910501268,
          0,
          0.8340270885590757,
          0.8211980583992872,
          0.8302743192435357
         ],
         "yaxis": "y"
        },
        {
         "error_y": {
          "array": [
           0.13784211458844928,
           0.14641051707608016,
           0.14096254676035647,
           0.1381091061438909,
           0.16665021414114634
          ],
          "type": "data",
          "visible": true
         },
         "hovertemplate": "<b>REM</b><br>Transition Range: %{x}<br>Avg Confidence: %{y:.3f}<br>Std Dev: %{error_y.array:.3f}<br>%{text}<extra></extra>",
         "marker": {
          "color": "#ff7f0e"
         },
         "name": "REM",
         "text": [
          "n=1344",
          "n=22",
          "n=542",
          "n=474",
          "n=506"
         ],
         "textposition": "auto",
         "type": "bar",
         "x": [
          "0.0-0.2",
          "0.2-0.4",
          "0.4-0.6",
          "0.6-0.8",
          "0.8-1.0"
         ],
         "xaxis": "x",
         "y": [
          0.8572872206790462,
          0.8554302941669117,
          0.8556643990572969,
          0.8498473610681824,
          0.8170736733632596
         ],
         "yaxis": "y"
        },
        {
         "error_y": {
          "array": [
           0.08599589459689795,
           0.10417170074131005,
           0.12945980418847444,
           0.1044801559240135,
           0.15353152797388953
          ],
          "type": "data",
          "visible": true
         },
         "hovertemplate": "<b>Wake</b><br>Transition Range: %{x}<br>Avg Confidence: %{y:.3f}<br>Std Dev: %{error_y.array:.3f}<br>%{text}<extra></extra>",
         "marker": {
          "color": "#d62728"
         },
         "name": "Wake",
         "text": [
          "n=1026",
          "n=52",
          "n=662",
          "n=340",
          "n=486"
         ],
         "textposition": "auto",
         "type": "bar",
         "x": [
          "0.0-0.2",
          "0.2-0.4",
          "0.4-0.6",
          "0.6-0.8",
          "0.8-1.0"
         ],
         "xaxis": "x",
         "y": [
          0.8737651546854257,
          0.8705860938017185,
          0.8389303665326802,
          0.8657295755603734,
          0.8145558002554341
         ],
         "yaxis": "y"
        },
        {
         "hovertemplate": "<b>Overall Confidence</b><br>Transition Range: %{x}<br>Avg Confidence: %{y:.3f}<br><extra></extra>",
         "line": {
          "color": "#7f7f7f",
          "dash": "dot",
          "width": 3
         },
         "marker": {
          "size": 10,
          "symbol": "star"
         },
         "mode": "lines+markers",
         "name": "Overall Confidence/Accuracy",
         "type": "scatter",
         "x": [
          "0.0-0.2",
          "0.2-0.4",
          "0.4-0.6",
          "0.6-0.8",
          "0.8-1.0"
         ],
         "xaxis": "x",
         "y": [
          0.8229619209397541,
          0.8275110544761022,
          0.8116650082074203,
          0.8104211756503148,
          0.7925534968060364
         ],
         "yaxis": "y"
        },
        {
         "hovertemplate": "<b>N3 (Deep)</b><br>Transition Range: %{x}<br>Accuracy: %{y:.1%}<br><extra></extra>",
         "marker": {
          "color": "#1f77b4"
         },
         "name": "N3 (Deep)",
         "showlegend": false,
         "text": [
          "89.6%",
          "78.6%",
          "83.3%",
          "87.5%",
          "82.0%"
         ],
         "textposition": "auto",
         "type": "bar",
         "x": [
          "0.0-0.2",
          "0.2-0.4",
          "0.4-0.6",
          "0.6-0.8",
          "0.8-1.0"
         ],
         "xaxis": "x2",
         "y": [
          0.8963414634146342,
          0.7857142857142857,
          0.8328767123287671,
          0.875,
          0.819620253164557
         ],
         "yaxis": "y2"
        },
        {
         "hovertemplate": "<b>N2 (Light)</b><br>Transition Range: %{x}<br>Accuracy: %{y:.1%}<br><extra></extra>",
         "marker": {
          "color": "#2ca02c"
         },
         "name": "N2 (Light)",
         "showlegend": false,
         "text": [
          "91.5%",
          "91.9%",
          "85.5%",
          "85.8%",
          "78.3%"
         ],
         "textposition": "auto",
         "type": "bar",
         "x": [
          "0.0-0.2",
          "0.2-0.4",
          "0.4-0.6",
          "0.6-0.8",
          "0.8-1.0"
         ],
         "xaxis": "x2",
         "y": [
          0.9154670750382848,
          0.9193548387096774,
          0.8552722260509993,
          0.8583196046128501,
          0.7834036568213784
         ],
         "yaxis": "y2"
        },
        {
         "hovertemplate": "<b>N1 (Light)</b><br>Transition Range: %{x}<br>Accuracy: %{y:.1%}<br><extra></extra>",
         "marker": {
          "color": "#98df8a"
         },
         "name": "N1 (Light)",
         "showlegend": false,
         "text": [
          "77.8%",
          "0.0%",
          "70.6%",
          "64.4%",
          "69.1%"
         ],
         "textposition": "auto",
         "type": "bar",
         "x": [
          "0.0-0.2",
          "0.2-0.4",
          "0.4-0.6",
          "0.6-0.8",
          "0.8-1.0"
         ],
         "xaxis": "x2",
         "y": [
          0.7777777777777778,
          0,
          0.7056179775280899,
          0.6439393939393939,
          0.6907894736842105
         ],
         "yaxis": "y2"
        },
        {
         "hovertemplate": "<b>REM</b><br>Transition Range: %{x}<br>Accuracy: %{y:.1%}<br><extra></extra>",
         "marker": {
          "color": "#ff7f0e"
         },
         "name": "REM",
         "showlegend": false,
         "text": [
          "92.3%",
          "100.0%",
          "91.7%",
          "90.1%",
          "87.0%"
         ],
         "textposition": "auto",
         "type": "bar",
         "x": [
          "0.0-0.2",
          "0.2-0.4",
          "0.4-0.6",
          "0.6-0.8",
          "0.8-1.0"
         ],
         "xaxis": "x2",
         "y": [
          0.9226190476190477,
          1,
          0.9169741697416974,
          0.9008438818565401,
          0.8695652173913043
         ],
         "yaxis": "y2"
        },
        {
         "hovertemplate": "<b>Wake</b><br>Transition Range: %{x}<br>Accuracy: %{y:.1%}<br><extra></extra>",
         "marker": {
          "color": "#d62728"
         },
         "name": "Wake",
         "showlegend": false,
         "text": [
          "96.8%",
          "96.2%",
          "87.2%",
          "92.4%",
          "80.5%"
         ],
         "textposition": "auto",
         "type": "bar",
         "x": [
          "0.0-0.2",
          "0.2-0.4",
          "0.4-0.6",
          "0.6-0.8",
          "0.8-1.0"
         ],
         "xaxis": "x2",
         "y": [
          0.9678362573099415,
          0.9615384615384616,
          0.8716012084592145,
          0.9235294117647059,
          0.8045267489711934
         ],
         "yaxis": "y2"
        },
        {
         "hovertemplate": "<b>Overall Accuracy</b><br>Transition Range: %{x}<br>Accuracy: %{y:.1%}<br><extra></extra>",
         "line": {
          "color": "#7f7f7f",
          "width": 3
         },
         "marker": {
          "size": 10,
          "symbol": "star"
         },
         "mode": "lines+markers",
         "name": "Overall Confidence/Accuracy",
         "showlegend": false,
         "type": "scatter",
         "x": [
          "0.0-0.2",
          "0.2-0.4",
          "0.4-0.6",
          "0.6-0.8",
          "0.8-1.0"
         ],
         "xaxis": "x2",
         "y": [
          0.9220963172804533,
          0.9333333333333333,
          0.8464646464646465,
          0.8658940397350994,
          0.790646578782172
         ],
         "yaxis": "y2"
        }
       ],
       "layout": {
        "annotations": [
         {
          "font": {
           "size": 16
          },
          "showarrow": false,
          "text": "<b>Model Confidence by Sleep Stage and Transition Tendency</b>",
          "x": 0.5,
          "xanchor": "center",
          "xref": "paper",
          "y": 1,
          "yanchor": "bottom",
          "yref": "paper"
         },
         {
          "font": {
           "size": 16
          },
          "showarrow": false,
          "text": "<b>Model Accuracy by Sleep Stage and Transition Tendency</b>",
          "x": 0.5,
          "xanchor": "center",
          "xref": "paper",
          "y": 0.425,
          "yanchor": "bottom",
          "yref": "paper"
         },
         {
          "bgcolor": "rgba(255, 255, 255, 0.8)",
          "font": {
           "size": 12
          },
          "showarrow": false,
          "text": "Total Samples: 15,571",
          "x": 0.01,
          "xref": "paper",
          "y": 0.99,
          "yref": "paper"
         }
        ],
        "bargap": 0.15,
        "bargroupgap": 0.1,
        "barmode": "group",
        "height": 1200,
        "legend": {
         "bgcolor": "rgba(255, 255, 255, 0.8)",
         "orientation": "h",
         "x": 0.5,
         "xanchor": "center",
         "y": 0.5,
         "yanchor": "bottom"
        },
        "showlegend": true,
        "template": {
         "data": {
          "bar": [
           {
            "error_x": {
             "color": "#2a3f5f"
            },
            "error_y": {
             "color": "#2a3f5f"
            },
            "marker": {
             "line": {
              "color": "white",
              "width": 0.5
             },
             "pattern": {
              "fillmode": "overlay",
              "size": 10,
              "solidity": 0.2
             }
            },
            "type": "bar"
           }
          ],
          "barpolar": [
           {
            "marker": {
             "line": {
              "color": "white",
              "width": 0.5
             },
             "pattern": {
              "fillmode": "overlay",
              "size": 10,
              "solidity": 0.2
             }
            },
            "type": "barpolar"
           }
          ],
          "carpet": [
           {
            "aaxis": {
             "endlinecolor": "#2a3f5f",
             "gridcolor": "#C8D4E3",
             "linecolor": "#C8D4E3",
             "minorgridcolor": "#C8D4E3",
             "startlinecolor": "#2a3f5f"
            },
            "baxis": {
             "endlinecolor": "#2a3f5f",
             "gridcolor": "#C8D4E3",
             "linecolor": "#C8D4E3",
             "minorgridcolor": "#C8D4E3",
             "startlinecolor": "#2a3f5f"
            },
            "type": "carpet"
           }
          ],
          "choropleth": [
           {
            "colorbar": {
             "outlinewidth": 0,
             "ticks": ""
            },
            "type": "choropleth"
           }
          ],
          "contour": [
           {
            "colorbar": {
             "outlinewidth": 0,
             "ticks": ""
            },
            "colorscale": [
             [
              0,
              "#0d0887"
             ],
             [
              0.1111111111111111,
              "#46039f"
             ],
             [
              0.2222222222222222,
              "#7201a8"
             ],
             [
              0.3333333333333333,
              "#9c179e"
             ],
             [
              0.4444444444444444,
              "#bd3786"
             ],
             [
              0.5555555555555556,
              "#d8576b"
             ],
             [
              0.6666666666666666,
              "#ed7953"
             ],
             [
              0.7777777777777778,
              "#fb9f3a"
             ],
             [
              0.8888888888888888,
              "#fdca26"
             ],
             [
              1,
              "#f0f921"
             ]
            ],
            "type": "contour"
           }
          ],
          "contourcarpet": [
           {
            "colorbar": {
             "outlinewidth": 0,
             "ticks": ""
            },
            "type": "contourcarpet"
           }
          ],
          "heatmap": [
           {
            "colorbar": {
             "outlinewidth": 0,
             "ticks": ""
            },
            "colorscale": [
             [
              0,
              "#0d0887"
             ],
             [
              0.1111111111111111,
              "#46039f"
             ],
             [
              0.2222222222222222,
              "#7201a8"
             ],
             [
              0.3333333333333333,
              "#9c179e"
             ],
             [
              0.4444444444444444,
              "#bd3786"
             ],
             [
              0.5555555555555556,
              "#d8576b"
             ],
             [
              0.6666666666666666,
              "#ed7953"
             ],
             [
              0.7777777777777778,
              "#fb9f3a"
             ],
             [
              0.8888888888888888,
              "#fdca26"
             ],
             [
              1,
              "#f0f921"
             ]
            ],
            "type": "heatmap"
           }
          ],
          "heatmapgl": [
           {
            "colorbar": {
             "outlinewidth": 0,
             "ticks": ""
            },
            "colorscale": [
             [
              0,
              "#0d0887"
             ],
             [
              0.1111111111111111,
              "#46039f"
             ],
             [
              0.2222222222222222,
              "#7201a8"
             ],
             [
              0.3333333333333333,
              "#9c179e"
             ],
             [
              0.4444444444444444,
              "#bd3786"
             ],
             [
              0.5555555555555556,
              "#d8576b"
             ],
             [
              0.6666666666666666,
              "#ed7953"
             ],
             [
              0.7777777777777778,
              "#fb9f3a"
             ],
             [
              0.8888888888888888,
              "#fdca26"
             ],
             [
              1,
              "#f0f921"
             ]
            ],
            "type": "heatmapgl"
           }
          ],
          "histogram": [
           {
            "marker": {
             "pattern": {
              "fillmode": "overlay",
              "size": 10,
              "solidity": 0.2
             }
            },
            "type": "histogram"
           }
          ],
          "histogram2d": [
           {
            "colorbar": {
             "outlinewidth": 0,
             "ticks": ""
            },
            "colorscale": [
             [
              0,
              "#0d0887"
             ],
             [
              0.1111111111111111,
              "#46039f"
             ],
             [
              0.2222222222222222,
              "#7201a8"
             ],
             [
              0.3333333333333333,
              "#9c179e"
             ],
             [
              0.4444444444444444,
              "#bd3786"
             ],
             [
              0.5555555555555556,
              "#d8576b"
             ],
             [
              0.6666666666666666,
              "#ed7953"
             ],
             [
              0.7777777777777778,
              "#fb9f3a"
             ],
             [
              0.8888888888888888,
              "#fdca26"
             ],
             [
              1,
              "#f0f921"
             ]
            ],
            "type": "histogram2d"
           }
          ],
          "histogram2dcontour": [
           {
            "colorbar": {
             "outlinewidth": 0,
             "ticks": ""
            },
            "colorscale": [
             [
              0,
              "#0d0887"
             ],
             [
              0.1111111111111111,
              "#46039f"
             ],
             [
              0.2222222222222222,
              "#7201a8"
             ],
             [
              0.3333333333333333,
              "#9c179e"
             ],
             [
              0.4444444444444444,
              "#bd3786"
             ],
             [
              0.5555555555555556,
              "#d8576b"
             ],
             [
              0.6666666666666666,
              "#ed7953"
             ],
             [
              0.7777777777777778,
              "#fb9f3a"
             ],
             [
              0.8888888888888888,
              "#fdca26"
             ],
             [
              1,
              "#f0f921"
             ]
            ],
            "type": "histogram2dcontour"
           }
          ],
          "mesh3d": [
           {
            "colorbar": {
             "outlinewidth": 0,
             "ticks": ""
            },
            "type": "mesh3d"
           }
          ],
          "parcoords": [
           {
            "line": {
             "colorbar": {
              "outlinewidth": 0,
              "ticks": ""
             }
            },
            "type": "parcoords"
           }
          ],
          "pie": [
           {
            "automargin": true,
            "type": "pie"
           }
          ],
          "scatter": [
           {
            "fillpattern": {
             "fillmode": "overlay",
             "size": 10,
             "solidity": 0.2
            },
            "type": "scatter"
           }
          ],
          "scatter3d": [
           {
            "line": {
             "colorbar": {
              "outlinewidth": 0,
              "ticks": ""
             }
            },
            "marker": {
             "colorbar": {
              "outlinewidth": 0,
              "ticks": ""
             }
            },
            "type": "scatter3d"
           }
          ],
          "scattercarpet": [
           {
            "marker": {
             "colorbar": {
              "outlinewidth": 0,
              "ticks": ""
             }
            },
            "type": "scattercarpet"
           }
          ],
          "scattergeo": [
           {
            "marker": {
             "colorbar": {
              "outlinewidth": 0,
              "ticks": ""
             }
            },
            "type": "scattergeo"
           }
          ],
          "scattergl": [
           {
            "marker": {
             "colorbar": {
              "outlinewidth": 0,
              "ticks": ""
             }
            },
            "type": "scattergl"
           }
          ],
          "scattermapbox": [
           {
            "marker": {
             "colorbar": {
              "outlinewidth": 0,
              "ticks": ""
             }
            },
            "type": "scattermapbox"
           }
          ],
          "scatterpolar": [
           {
            "marker": {
             "colorbar": {
              "outlinewidth": 0,
              "ticks": ""
             }
            },
            "type": "scatterpolar"
           }
          ],
          "scatterpolargl": [
           {
            "marker": {
             "colorbar": {
              "outlinewidth": 0,
              "ticks": ""
             }
            },
            "type": "scatterpolargl"
           }
          ],
          "scatterternary": [
           {
            "marker": {
             "colorbar": {
              "outlinewidth": 0,
              "ticks": ""
             }
            },
            "type": "scatterternary"
           }
          ],
          "surface": [
           {
            "colorbar": {
             "outlinewidth": 0,
             "ticks": ""
            },
            "colorscale": [
             [
              0,
              "#0d0887"
             ],
             [
              0.1111111111111111,
              "#46039f"
             ],
             [
              0.2222222222222222,
              "#7201a8"
             ],
             [
              0.3333333333333333,
              "#9c179e"
             ],
             [
              0.4444444444444444,
              "#bd3786"
             ],
             [
              0.5555555555555556,
              "#d8576b"
             ],
             [
              0.6666666666666666,
              "#ed7953"
             ],
             [
              0.7777777777777778,
              "#fb9f3a"
             ],
             [
              0.8888888888888888,
              "#fdca26"
             ],
             [
              1,
              "#f0f921"
             ]
            ],
            "type": "surface"
           }
          ],
          "table": [
           {
            "cells": {
             "fill": {
              "color": "#EBF0F8"
             },
             "line": {
              "color": "white"
             }
            },
            "header": {
             "fill": {
              "color": "#C8D4E3"
             },
             "line": {
              "color": "white"
             }
            },
            "type": "table"
           }
          ]
         },
         "layout": {
          "annotationdefaults": {
           "arrowcolor": "#2a3f5f",
           "arrowhead": 0,
           "arrowwidth": 1
          },
          "autotypenumbers": "strict",
          "coloraxis": {
           "colorbar": {
            "outlinewidth": 0,
            "ticks": ""
           }
          },
          "colorscale": {
           "diverging": [
            [
             0,
             "#8e0152"
            ],
            [
             0.1,
             "#c51b7d"
            ],
            [
             0.2,
             "#de77ae"
            ],
            [
             0.3,
             "#f1b6da"
            ],
            [
             0.4,
             "#fde0ef"
            ],
            [
             0.5,
             "#f7f7f7"
            ],
            [
             0.6,
             "#e6f5d0"
            ],
            [
             0.7,
             "#b8e186"
            ],
            [
             0.8,
             "#7fbc41"
            ],
            [
             0.9,
             "#4d9221"
            ],
            [
             1,
             "#276419"
            ]
           ],
           "sequential": [
            [
             0,
             "#0d0887"
            ],
            [
             0.1111111111111111,
             "#46039f"
            ],
            [
             0.2222222222222222,
             "#7201a8"
            ],
            [
             0.3333333333333333,
             "#9c179e"
            ],
            [
             0.4444444444444444,
             "#bd3786"
            ],
            [
             0.5555555555555556,
             "#d8576b"
            ],
            [
             0.6666666666666666,
             "#ed7953"
            ],
            [
             0.7777777777777778,
             "#fb9f3a"
            ],
            [
             0.8888888888888888,
             "#fdca26"
            ],
            [
             1,
             "#f0f921"
            ]
           ],
           "sequentialminus": [
            [
             0,
             "#0d0887"
            ],
            [
             0.1111111111111111,
             "#46039f"
            ],
            [
             0.2222222222222222,
             "#7201a8"
            ],
            [
             0.3333333333333333,
             "#9c179e"
            ],
            [
             0.4444444444444444,
             "#bd3786"
            ],
            [
             0.5555555555555556,
             "#d8576b"
            ],
            [
             0.6666666666666666,
             "#ed7953"
            ],
            [
             0.7777777777777778,
             "#fb9f3a"
            ],
            [
             0.8888888888888888,
             "#fdca26"
            ],
            [
             1,
             "#f0f921"
            ]
           ]
          },
          "colorway": [
           "#636efa",
           "#EF553B",
           "#00cc96",
           "#ab63fa",
           "#FFA15A",
           "#19d3f3",
           "#FF6692",
           "#B6E880",
           "#FF97FF",
           "#FECB52"
          ],
          "font": {
           "color": "#2a3f5f"
          },
          "geo": {
           "bgcolor": "white",
           "lakecolor": "white",
           "landcolor": "white",
           "showlakes": true,
           "showland": true,
           "subunitcolor": "#C8D4E3"
          },
          "hoverlabel": {
           "align": "left"
          },
          "hovermode": "closest",
          "mapbox": {
           "style": "light"
          },
          "paper_bgcolor": "white",
          "plot_bgcolor": "white",
          "polar": {
           "angularaxis": {
            "gridcolor": "#EBF0F8",
            "linecolor": "#EBF0F8",
            "ticks": ""
           },
           "bgcolor": "white",
           "radialaxis": {
            "gridcolor": "#EBF0F8",
            "linecolor": "#EBF0F8",
            "ticks": ""
           }
          },
          "scene": {
           "xaxis": {
            "backgroundcolor": "white",
            "gridcolor": "#DFE8F3",
            "gridwidth": 2,
            "linecolor": "#EBF0F8",
            "showbackground": true,
            "ticks": "",
            "zerolinecolor": "#EBF0F8"
           },
           "yaxis": {
            "backgroundcolor": "white",
            "gridcolor": "#DFE8F3",
            "gridwidth": 2,
            "linecolor": "#EBF0F8",
            "showbackground": true,
            "ticks": "",
            "zerolinecolor": "#EBF0F8"
           },
           "zaxis": {
            "backgroundcolor": "white",
            "gridcolor": "#DFE8F3",
            "gridwidth": 2,
            "linecolor": "#EBF0F8",
            "showbackground": true,
            "ticks": "",
            "zerolinecolor": "#EBF0F8"
           }
          },
          "shapedefaults": {
           "line": {
            "color": "#2a3f5f"
           }
          },
          "ternary": {
           "aaxis": {
            "gridcolor": "#DFE8F3",
            "linecolor": "#A2B1C6",
            "ticks": ""
           },
           "baxis": {
            "gridcolor": "#DFE8F3",
            "linecolor": "#A2B1C6",
            "ticks": ""
           },
           "bgcolor": "white",
           "caxis": {
            "gridcolor": "#DFE8F3",
            "linecolor": "#A2B1C6",
            "ticks": ""
           }
          },
          "title": {
           "x": 0.05
          },
          "xaxis": {
           "automargin": true,
           "gridcolor": "#EBF0F8",
           "linecolor": "#EBF0F8",
           "ticks": "",
           "title": {
            "standoff": 15
           },
           "zerolinecolor": "#EBF0F8",
           "zerolinewidth": 2
          },
          "yaxis": {
           "automargin": true,
           "gridcolor": "#EBF0F8",
           "linecolor": "#EBF0F8",
           "ticks": "",
           "title": {
            "standoff": 15
           },
           "zerolinecolor": "#EBF0F8",
           "zerolinewidth": 2
          }
         }
        },
        "title": {
         "font": {
          "size": 24
         },
         "x": 0.5
        },
        "width": 1400,
        "xaxis": {
         "anchor": "y",
         "domain": [
          0,
          1
         ],
         "tickangle": 0,
         "title": {
          "font": {
           "size": 14
          },
          "text": "Transition Tendency (0=Stable → 1=Transitioning)"
         }
        },
        "xaxis2": {
         "anchor": "y2",
         "domain": [
          0,
          1
         ],
         "tickangle": 0,
         "title": {
          "font": {
           "size": 14
          },
          "text": "Transition Tendency (0=Stable → 1=Transitioning)"
         }
        },
        "yaxis": {
         "anchor": "x",
         "domain": [
          0.575,
          1
         ],
         "range": [
          0,
          1
         ],
         "tickformat": ".0%",
         "title": {
          "font": {
           "size": 14
          },
          "text": "Average Confidence"
         }
        },
        "yaxis2": {
         "anchor": "x2",
         "domain": [
          0,
          0.425
         ],
         "range": [
          0,
          1
         ],
         "tickformat": ".0%",
         "title": {
          "font": {
           "size": 14
          },
          "text": "Accuracy"
         }
        }
       }
      },
      "text/html": [
       "<div>                            <div id=\"c9d987f1-85f2-4a84-a824-0774519e6468\" class=\"plotly-graph-div\" style=\"height:1200px; width:1400px;\"></div>            <script type=\"text/javascript\">                require([\"plotly\"], function(Plotly) {                    window.PLOTLYENV=window.PLOTLYENV || {};                                    if (document.getElementById(\"c9d987f1-85f2-4a84-a824-0774519e6468\")) {                    Plotly.newPlot(                        \"c9d987f1-85f2-4a84-a824-0774519e6468\",                        [{\"error_y\":{\"array\":[0.13657220218851757,0.15919001152661189,0.1326881923105108,0.13932714465100707,0.14355146857693768],\"type\":\"data\",\"visible\":true},\"hovertemplate\":\"\\u003cb\\u003eN3 (Deep)\\u003c\\u002fb\\u003e\\u003cbr\\u003eTransition Range: %{x}\\u003cbr\\u003eAvg Confidence: %{y:.3f}\\u003cbr\\u003eStd Dev: %{error_y.array:.3f}\\u003cbr\\u003e%{text}\\u003cextra\\u003e\\u003c\\u002fextra\\u003e\",\"marker\":{\"color\":\"#1f77b4\"},\"name\":\"N3 (Deep)\",\"text\":[\"n=656\",\"n=14\",\"n=365\",\"n=256\",\"n=316\"],\"textposition\":\"auto\",\"x\":[\"0.0-0.2\",\"0.2-0.4\",\"0.4-0.6\",\"0.6-0.8\",\"0.8-1.0\"],\"y\":[0.8511909428620483,0.8023169338703156,0.8381217118811934,0.823271382600069,0.8232013287989399],\"type\":\"bar\",\"xaxis\":\"x\",\"yaxis\":\"y\"},{\"error_y\":{\"array\":[0.10114517163465662,0.08813260907466584,0.11733772209256348,0.11265810075992506,0.1298091773739722],\"type\":\"data\",\"visible\":true},\"hovertemplate\":\"\\u003cb\\u003eN2 (Light)\\u003c\\u002fb\\u003e\\u003cbr\\u003eTransition Range: %{x}\\u003cbr\\u003eAvg Confidence: %{y:.3f}\\u003cbr\\u003eStd Dev: %{error_y.array:.3f}\\u003cbr\\u003e%{text}\\u003cextra\\u003e\\u003c\\u002fextra\\u003e\",\"marker\":{\"color\":\"#2ca02c\"},\"name\":\"N2 (Light)\",\"text\":[\"n=3265\",\"n=62\",\"n=1451\",\"n=1214\",\"n=1422\"],\"textposition\":\"auto\",\"x\":[\"0.0-0.2\",\"0.2-0.4\",\"0.4-0.6\",\"0.6-0.8\",\"0.8-1.0\"],\"y\":[0.786640187043691,0.7871657701269272,0.7692768899101294,0.7756558796375548,0.7574017817880199],\"type\":\"bar\",\"xaxis\":\"x\",\"yaxis\":\"y\"},{\"error_y\":{\"array\":[0.16022553122037736,0,0.1632263590847703,0.1797350281009431,0.16507985749029214],\"type\":\"data\",\"visible\":true},\"hovertemplate\":\"\\u003cb\\u003eN1 (Light)\\u003c\\u002fb\\u003e\\u003cbr\\u003eTransition Range: %{x}\\u003cbr\\u003eAvg Confidence: %{y:.3f}\\u003cbr\\u003eStd Dev: %{error_y.array:.3f}\\u003cbr\\u003e%{text}\\u003cextra\\u003e\\u003c\\u002fextra\\u003e\",\"marker\":{\"color\":\"#98df8a\"},\"name\":\"N1 (Light)\",\"text\":[\"n=63\",\"n=0\",\"n=445\",\"n=132\",\"n=456\"],\"textposition\":\"auto\",\"x\":[\"0.0-0.2\",\"0.2-0.4\",\"0.4-0.6\",\"0.6-0.8\",\"0.8-1.0\"],\"y\":[0.8517698910501268,0,0.8340270885590757,0.8211980583992872,0.8302743192435357],\"type\":\"bar\",\"xaxis\":\"x\",\"yaxis\":\"y\"},{\"error_y\":{\"array\":[0.13784211458844928,0.14641051707608016,0.14096254676035647,0.1381091061438909,0.16665021414114634],\"type\":\"data\",\"visible\":true},\"hovertemplate\":\"\\u003cb\\u003eREM\\u003c\\u002fb\\u003e\\u003cbr\\u003eTransition Range: %{x}\\u003cbr\\u003eAvg Confidence: %{y:.3f}\\u003cbr\\u003eStd Dev: %{error_y.array:.3f}\\u003cbr\\u003e%{text}\\u003cextra\\u003e\\u003c\\u002fextra\\u003e\",\"marker\":{\"color\":\"#ff7f0e\"},\"name\":\"REM\",\"text\":[\"n=1344\",\"n=22\",\"n=542\",\"n=474\",\"n=506\"],\"textposition\":\"auto\",\"x\":[\"0.0-0.2\",\"0.2-0.4\",\"0.4-0.6\",\"0.6-0.8\",\"0.8-1.0\"],\"y\":[0.8572872206790462,0.8554302941669117,0.8556643990572969,0.8498473610681824,0.8170736733632596],\"type\":\"bar\",\"xaxis\":\"x\",\"yaxis\":\"y\"},{\"error_y\":{\"array\":[0.08599589459689795,0.10417170074131005,0.12945980418847444,0.1044801559240135,0.15353152797388953],\"type\":\"data\",\"visible\":true},\"hovertemplate\":\"\\u003cb\\u003eWake\\u003c\\u002fb\\u003e\\u003cbr\\u003eTransition Range: %{x}\\u003cbr\\u003eAvg Confidence: %{y:.3f}\\u003cbr\\u003eStd Dev: %{error_y.array:.3f}\\u003cbr\\u003e%{text}\\u003cextra\\u003e\\u003c\\u002fextra\\u003e\",\"marker\":{\"color\":\"#d62728\"},\"name\":\"Wake\",\"text\":[\"n=1026\",\"n=52\",\"n=662\",\"n=340\",\"n=486\"],\"textposition\":\"auto\",\"x\":[\"0.0-0.2\",\"0.2-0.4\",\"0.4-0.6\",\"0.6-0.8\",\"0.8-1.0\"],\"y\":[0.8737651546854257,0.8705860938017185,0.8389303665326802,0.8657295755603734,0.8145558002554341],\"type\":\"bar\",\"xaxis\":\"x\",\"yaxis\":\"y\"},{\"hovertemplate\":\"\\u003cb\\u003eOverall Confidence\\u003c\\u002fb\\u003e\\u003cbr\\u003eTransition Range: %{x}\\u003cbr\\u003eAvg Confidence: %{y:.3f}\\u003cbr\\u003e\\u003cextra\\u003e\\u003c\\u002fextra\\u003e\",\"line\":{\"color\":\"#7f7f7f\",\"dash\":\"dot\",\"width\":3},\"marker\":{\"size\":10,\"symbol\":\"star\"},\"mode\":\"lines+markers\",\"name\":\"Overall Confidence\\u002fAccuracy\",\"x\":[\"0.0-0.2\",\"0.2-0.4\",\"0.4-0.6\",\"0.6-0.8\",\"0.8-1.0\"],\"y\":[0.8229619209397541,0.8275110544761022,0.8116650082074203,0.8104211756503148,0.7925534968060364],\"type\":\"scatter\",\"xaxis\":\"x\",\"yaxis\":\"y\"},{\"hovertemplate\":\"\\u003cb\\u003eN3 (Deep)\\u003c\\u002fb\\u003e\\u003cbr\\u003eTransition Range: %{x}\\u003cbr\\u003eAccuracy: %{y:.1%}\\u003cbr\\u003e\\u003cextra\\u003e\\u003c\\u002fextra\\u003e\",\"marker\":{\"color\":\"#1f77b4\"},\"name\":\"N3 (Deep)\",\"showlegend\":false,\"text\":[\"89.6%\",\"78.6%\",\"83.3%\",\"87.5%\",\"82.0%\"],\"textposition\":\"auto\",\"x\":[\"0.0-0.2\",\"0.2-0.4\",\"0.4-0.6\",\"0.6-0.8\",\"0.8-1.0\"],\"y\":[0.8963414634146342,0.7857142857142857,0.8328767123287671,0.875,0.819620253164557],\"type\":\"bar\",\"xaxis\":\"x2\",\"yaxis\":\"y2\"},{\"hovertemplate\":\"\\u003cb\\u003eN2 (Light)\\u003c\\u002fb\\u003e\\u003cbr\\u003eTransition Range: %{x}\\u003cbr\\u003eAccuracy: %{y:.1%}\\u003cbr\\u003e\\u003cextra\\u003e\\u003c\\u002fextra\\u003e\",\"marker\":{\"color\":\"#2ca02c\"},\"name\":\"N2 (Light)\",\"showlegend\":false,\"text\":[\"91.5%\",\"91.9%\",\"85.5%\",\"85.8%\",\"78.3%\"],\"textposition\":\"auto\",\"x\":[\"0.0-0.2\",\"0.2-0.4\",\"0.4-0.6\",\"0.6-0.8\",\"0.8-1.0\"],\"y\":[0.9154670750382848,0.9193548387096774,0.8552722260509993,0.8583196046128501,0.7834036568213784],\"type\":\"bar\",\"xaxis\":\"x2\",\"yaxis\":\"y2\"},{\"hovertemplate\":\"\\u003cb\\u003eN1 (Light)\\u003c\\u002fb\\u003e\\u003cbr\\u003eTransition Range: %{x}\\u003cbr\\u003eAccuracy: %{y:.1%}\\u003cbr\\u003e\\u003cextra\\u003e\\u003c\\u002fextra\\u003e\",\"marker\":{\"color\":\"#98df8a\"},\"name\":\"N1 (Light)\",\"showlegend\":false,\"text\":[\"77.8%\",\"0.0%\",\"70.6%\",\"64.4%\",\"69.1%\"],\"textposition\":\"auto\",\"x\":[\"0.0-0.2\",\"0.2-0.4\",\"0.4-0.6\",\"0.6-0.8\",\"0.8-1.0\"],\"y\":[0.7777777777777778,0,0.7056179775280899,0.6439393939393939,0.6907894736842105],\"type\":\"bar\",\"xaxis\":\"x2\",\"yaxis\":\"y2\"},{\"hovertemplate\":\"\\u003cb\\u003eREM\\u003c\\u002fb\\u003e\\u003cbr\\u003eTransition Range: %{x}\\u003cbr\\u003eAccuracy: %{y:.1%}\\u003cbr\\u003e\\u003cextra\\u003e\\u003c\\u002fextra\\u003e\",\"marker\":{\"color\":\"#ff7f0e\"},\"name\":\"REM\",\"showlegend\":false,\"text\":[\"92.3%\",\"100.0%\",\"91.7%\",\"90.1%\",\"87.0%\"],\"textposition\":\"auto\",\"x\":[\"0.0-0.2\",\"0.2-0.4\",\"0.4-0.6\",\"0.6-0.8\",\"0.8-1.0\"],\"y\":[0.9226190476190477,1.0,0.9169741697416974,0.9008438818565401,0.8695652173913043],\"type\":\"bar\",\"xaxis\":\"x2\",\"yaxis\":\"y2\"},{\"hovertemplate\":\"\\u003cb\\u003eWake\\u003c\\u002fb\\u003e\\u003cbr\\u003eTransition Range: %{x}\\u003cbr\\u003eAccuracy: %{y:.1%}\\u003cbr\\u003e\\u003cextra\\u003e\\u003c\\u002fextra\\u003e\",\"marker\":{\"color\":\"#d62728\"},\"name\":\"Wake\",\"showlegend\":false,\"text\":[\"96.8%\",\"96.2%\",\"87.2%\",\"92.4%\",\"80.5%\"],\"textposition\":\"auto\",\"x\":[\"0.0-0.2\",\"0.2-0.4\",\"0.4-0.6\",\"0.6-0.8\",\"0.8-1.0\"],\"y\":[0.9678362573099415,0.9615384615384616,0.8716012084592145,0.9235294117647059,0.8045267489711934],\"type\":\"bar\",\"xaxis\":\"x2\",\"yaxis\":\"y2\"},{\"hovertemplate\":\"\\u003cb\\u003eOverall Accuracy\\u003c\\u002fb\\u003e\\u003cbr\\u003eTransition Range: %{x}\\u003cbr\\u003eAccuracy: %{y:.1%}\\u003cbr\\u003e\\u003cextra\\u003e\\u003c\\u002fextra\\u003e\",\"line\":{\"color\":\"#7f7f7f\",\"width\":3},\"marker\":{\"size\":10,\"symbol\":\"star\"},\"mode\":\"lines+markers\",\"name\":\"Overall Confidence\\u002fAccuracy\",\"showlegend\":false,\"x\":[\"0.0-0.2\",\"0.2-0.4\",\"0.4-0.6\",\"0.6-0.8\",\"0.8-1.0\"],\"y\":[0.9220963172804533,0.9333333333333333,0.8464646464646465,0.8658940397350994,0.790646578782172],\"type\":\"scatter\",\"xaxis\":\"x2\",\"yaxis\":\"y2\"}],                        {\"template\":{\"data\":{\"barpolar\":[{\"marker\":{\"line\":{\"color\":\"white\",\"width\":0.5},\"pattern\":{\"fillmode\":\"overlay\",\"size\":10,\"solidity\":0.2}},\"type\":\"barpolar\"}],\"bar\":[{\"error_x\":{\"color\":\"#2a3f5f\"},\"error_y\":{\"color\":\"#2a3f5f\"},\"marker\":{\"line\":{\"color\":\"white\",\"width\":0.5},\"pattern\":{\"fillmode\":\"overlay\",\"size\":10,\"solidity\":0.2}},\"type\":\"bar\"}],\"carpet\":[{\"aaxis\":{\"endlinecolor\":\"#2a3f5f\",\"gridcolor\":\"#C8D4E3\",\"linecolor\":\"#C8D4E3\",\"minorgridcolor\":\"#C8D4E3\",\"startlinecolor\":\"#2a3f5f\"},\"baxis\":{\"endlinecolor\":\"#2a3f5f\",\"gridcolor\":\"#C8D4E3\",\"linecolor\":\"#C8D4E3\",\"minorgridcolor\":\"#C8D4E3\",\"startlinecolor\":\"#2a3f5f\"},\"type\":\"carpet\"}],\"choropleth\":[{\"colorbar\":{\"outlinewidth\":0,\"ticks\":\"\"},\"type\":\"choropleth\"}],\"contourcarpet\":[{\"colorbar\":{\"outlinewidth\":0,\"ticks\":\"\"},\"type\":\"contourcarpet\"}],\"contour\":[{\"colorbar\":{\"outlinewidth\":0,\"ticks\":\"\"},\"colorscale\":[[0.0,\"#0d0887\"],[0.1111111111111111,\"#46039f\"],[0.2222222222222222,\"#7201a8\"],[0.3333333333333333,\"#9c179e\"],[0.4444444444444444,\"#bd3786\"],[0.5555555555555556,\"#d8576b\"],[0.6666666666666666,\"#ed7953\"],[0.7777777777777778,\"#fb9f3a\"],[0.8888888888888888,\"#fdca26\"],[1.0,\"#f0f921\"]],\"type\":\"contour\"}],\"heatmapgl\":[{\"colorbar\":{\"outlinewidth\":0,\"ticks\":\"\"},\"colorscale\":[[0.0,\"#0d0887\"],[0.1111111111111111,\"#46039f\"],[0.2222222222222222,\"#7201a8\"],[0.3333333333333333,\"#9c179e\"],[0.4444444444444444,\"#bd3786\"],[0.5555555555555556,\"#d8576b\"],[0.6666666666666666,\"#ed7953\"],[0.7777777777777778,\"#fb9f3a\"],[0.8888888888888888,\"#fdca26\"],[1.0,\"#f0f921\"]],\"type\":\"heatmapgl\"}],\"heatmap\":[{\"colorbar\":{\"outlinewidth\":0,\"ticks\":\"\"},\"colorscale\":[[0.0,\"#0d0887\"],[0.1111111111111111,\"#46039f\"],[0.2222222222222222,\"#7201a8\"],[0.3333333333333333,\"#9c179e\"],[0.4444444444444444,\"#bd3786\"],[0.5555555555555556,\"#d8576b\"],[0.6666666666666666,\"#ed7953\"],[0.7777777777777778,\"#fb9f3a\"],[0.8888888888888888,\"#fdca26\"],[1.0,\"#f0f921\"]],\"type\":\"heatmap\"}],\"histogram2dcontour\":[{\"colorbar\":{\"outlinewidth\":0,\"ticks\":\"\"},\"colorscale\":[[0.0,\"#0d0887\"],[0.1111111111111111,\"#46039f\"],[0.2222222222222222,\"#7201a8\"],[0.3333333333333333,\"#9c179e\"],[0.4444444444444444,\"#bd3786\"],[0.5555555555555556,\"#d8576b\"],[0.6666666666666666,\"#ed7953\"],[0.7777777777777778,\"#fb9f3a\"],[0.8888888888888888,\"#fdca26\"],[1.0,\"#f0f921\"]],\"type\":\"histogram2dcontour\"}],\"histogram2d\":[{\"colorbar\":{\"outlinewidth\":0,\"ticks\":\"\"},\"colorscale\":[[0.0,\"#0d0887\"],[0.1111111111111111,\"#46039f\"],[0.2222222222222222,\"#7201a8\"],[0.3333333333333333,\"#9c179e\"],[0.4444444444444444,\"#bd3786\"],[0.5555555555555556,\"#d8576b\"],[0.6666666666666666,\"#ed7953\"],[0.7777777777777778,\"#fb9f3a\"],[0.8888888888888888,\"#fdca26\"],[1.0,\"#f0f921\"]],\"type\":\"histogram2d\"}],\"histogram\":[{\"marker\":{\"pattern\":{\"fillmode\":\"overlay\",\"size\":10,\"solidity\":0.2}},\"type\":\"histogram\"}],\"mesh3d\":[{\"colorbar\":{\"outlinewidth\":0,\"ticks\":\"\"},\"type\":\"mesh3d\"}],\"parcoords\":[{\"line\":{\"colorbar\":{\"outlinewidth\":0,\"ticks\":\"\"}},\"type\":\"parcoords\"}],\"pie\":[{\"automargin\":true,\"type\":\"pie\"}],\"scatter3d\":[{\"line\":{\"colorbar\":{\"outlinewidth\":0,\"ticks\":\"\"}},\"marker\":{\"colorbar\":{\"outlinewidth\":0,\"ticks\":\"\"}},\"type\":\"scatter3d\"}],\"scattercarpet\":[{\"marker\":{\"colorbar\":{\"outlinewidth\":0,\"ticks\":\"\"}},\"type\":\"scattercarpet\"}],\"scattergeo\":[{\"marker\":{\"colorbar\":{\"outlinewidth\":0,\"ticks\":\"\"}},\"type\":\"scattergeo\"}],\"scattergl\":[{\"marker\":{\"colorbar\":{\"outlinewidth\":0,\"ticks\":\"\"}},\"type\":\"scattergl\"}],\"scattermapbox\":[{\"marker\":{\"colorbar\":{\"outlinewidth\":0,\"ticks\":\"\"}},\"type\":\"scattermapbox\"}],\"scatterpolargl\":[{\"marker\":{\"colorbar\":{\"outlinewidth\":0,\"ticks\":\"\"}},\"type\":\"scatterpolargl\"}],\"scatterpolar\":[{\"marker\":{\"colorbar\":{\"outlinewidth\":0,\"ticks\":\"\"}},\"type\":\"scatterpolar\"}],\"scatter\":[{\"fillpattern\":{\"fillmode\":\"overlay\",\"size\":10,\"solidity\":0.2},\"type\":\"scatter\"}],\"scatterternary\":[{\"marker\":{\"colorbar\":{\"outlinewidth\":0,\"ticks\":\"\"}},\"type\":\"scatterternary\"}],\"surface\":[{\"colorbar\":{\"outlinewidth\":0,\"ticks\":\"\"},\"colorscale\":[[0.0,\"#0d0887\"],[0.1111111111111111,\"#46039f\"],[0.2222222222222222,\"#7201a8\"],[0.3333333333333333,\"#9c179e\"],[0.4444444444444444,\"#bd3786\"],[0.5555555555555556,\"#d8576b\"],[0.6666666666666666,\"#ed7953\"],[0.7777777777777778,\"#fb9f3a\"],[0.8888888888888888,\"#fdca26\"],[1.0,\"#f0f921\"]],\"type\":\"surface\"}],\"table\":[{\"cells\":{\"fill\":{\"color\":\"#EBF0F8\"},\"line\":{\"color\":\"white\"}},\"header\":{\"fill\":{\"color\":\"#C8D4E3\"},\"line\":{\"color\":\"white\"}},\"type\":\"table\"}]},\"layout\":{\"annotationdefaults\":{\"arrowcolor\":\"#2a3f5f\",\"arrowhead\":0,\"arrowwidth\":1},\"autotypenumbers\":\"strict\",\"coloraxis\":{\"colorbar\":{\"outlinewidth\":0,\"ticks\":\"\"}},\"colorscale\":{\"diverging\":[[0,\"#8e0152\"],[0.1,\"#c51b7d\"],[0.2,\"#de77ae\"],[0.3,\"#f1b6da\"],[0.4,\"#fde0ef\"],[0.5,\"#f7f7f7\"],[0.6,\"#e6f5d0\"],[0.7,\"#b8e186\"],[0.8,\"#7fbc41\"],[0.9,\"#4d9221\"],[1,\"#276419\"]],\"sequential\":[[0.0,\"#0d0887\"],[0.1111111111111111,\"#46039f\"],[0.2222222222222222,\"#7201a8\"],[0.3333333333333333,\"#9c179e\"],[0.4444444444444444,\"#bd3786\"],[0.5555555555555556,\"#d8576b\"],[0.6666666666666666,\"#ed7953\"],[0.7777777777777778,\"#fb9f3a\"],[0.8888888888888888,\"#fdca26\"],[1.0,\"#f0f921\"]],\"sequentialminus\":[[0.0,\"#0d0887\"],[0.1111111111111111,\"#46039f\"],[0.2222222222222222,\"#7201a8\"],[0.3333333333333333,\"#9c179e\"],[0.4444444444444444,\"#bd3786\"],[0.5555555555555556,\"#d8576b\"],[0.6666666666666666,\"#ed7953\"],[0.7777777777777778,\"#fb9f3a\"],[0.8888888888888888,\"#fdca26\"],[1.0,\"#f0f921\"]]},\"colorway\":[\"#636efa\",\"#EF553B\",\"#00cc96\",\"#ab63fa\",\"#FFA15A\",\"#19d3f3\",\"#FF6692\",\"#B6E880\",\"#FF97FF\",\"#FECB52\"],\"font\":{\"color\":\"#2a3f5f\"},\"geo\":{\"bgcolor\":\"white\",\"lakecolor\":\"white\",\"landcolor\":\"white\",\"showlakes\":true,\"showland\":true,\"subunitcolor\":\"#C8D4E3\"},\"hoverlabel\":{\"align\":\"left\"},\"hovermode\":\"closest\",\"mapbox\":{\"style\":\"light\"},\"paper_bgcolor\":\"white\",\"plot_bgcolor\":\"white\",\"polar\":{\"angularaxis\":{\"gridcolor\":\"#EBF0F8\",\"linecolor\":\"#EBF0F8\",\"ticks\":\"\"},\"bgcolor\":\"white\",\"radialaxis\":{\"gridcolor\":\"#EBF0F8\",\"linecolor\":\"#EBF0F8\",\"ticks\":\"\"}},\"scene\":{\"xaxis\":{\"backgroundcolor\":\"white\",\"gridcolor\":\"#DFE8F3\",\"gridwidth\":2,\"linecolor\":\"#EBF0F8\",\"showbackground\":true,\"ticks\":\"\",\"zerolinecolor\":\"#EBF0F8\"},\"yaxis\":{\"backgroundcolor\":\"white\",\"gridcolor\":\"#DFE8F3\",\"gridwidth\":2,\"linecolor\":\"#EBF0F8\",\"showbackground\":true,\"ticks\":\"\",\"zerolinecolor\":\"#EBF0F8\"},\"zaxis\":{\"backgroundcolor\":\"white\",\"gridcolor\":\"#DFE8F3\",\"gridwidth\":2,\"linecolor\":\"#EBF0F8\",\"showbackground\":true,\"ticks\":\"\",\"zerolinecolor\":\"#EBF0F8\"}},\"shapedefaults\":{\"line\":{\"color\":\"#2a3f5f\"}},\"ternary\":{\"aaxis\":{\"gridcolor\":\"#DFE8F3\",\"linecolor\":\"#A2B1C6\",\"ticks\":\"\"},\"baxis\":{\"gridcolor\":\"#DFE8F3\",\"linecolor\":\"#A2B1C6\",\"ticks\":\"\"},\"bgcolor\":\"white\",\"caxis\":{\"gridcolor\":\"#DFE8F3\",\"linecolor\":\"#A2B1C6\",\"ticks\":\"\"}},\"title\":{\"x\":0.05},\"xaxis\":{\"automargin\":true,\"gridcolor\":\"#EBF0F8\",\"linecolor\":\"#EBF0F8\",\"ticks\":\"\",\"title\":{\"standoff\":15},\"zerolinecolor\":\"#EBF0F8\",\"zerolinewidth\":2},\"yaxis\":{\"automargin\":true,\"gridcolor\":\"#EBF0F8\",\"linecolor\":\"#EBF0F8\",\"ticks\":\"\",\"title\":{\"standoff\":15},\"zerolinecolor\":\"#EBF0F8\",\"zerolinewidth\":2}}},\"xaxis\":{\"anchor\":\"y\",\"domain\":[0.0,1.0],\"title\":{\"font\":{\"size\":14},\"text\":\"Transition Tendency (0=Stable \\u2192 1=Transitioning)\"},\"tickangle\":0},\"yaxis\":{\"anchor\":\"x\",\"domain\":[0.575,1.0],\"title\":{\"font\":{\"size\":14},\"text\":\"Average Confidence\"},\"range\":[0,1],\"tickformat\":\".0%\"},\"xaxis2\":{\"anchor\":\"y2\",\"domain\":[0.0,1.0],\"title\":{\"font\":{\"size\":14},\"text\":\"Transition Tendency (0=Stable \\u2192 1=Transitioning)\"},\"tickangle\":0},\"yaxis2\":{\"anchor\":\"x2\",\"domain\":[0.0,0.425],\"title\":{\"font\":{\"size\":14},\"text\":\"Accuracy\"},\"range\":[0,1],\"tickformat\":\".0%\"},\"annotations\":[{\"font\":{\"size\":16},\"showarrow\":false,\"text\":\"\\u003cb\\u003eModel Confidence by Sleep Stage and Transition Tendency\\u003c\\u002fb\\u003e\",\"x\":0.5,\"xanchor\":\"center\",\"xref\":\"paper\",\"y\":1.0,\"yanchor\":\"bottom\",\"yref\":\"paper\"},{\"font\":{\"size\":16},\"showarrow\":false,\"text\":\"\\u003cb\\u003eModel Accuracy by Sleep Stage and Transition Tendency\\u003c\\u002fb\\u003e\",\"x\":0.5,\"xanchor\":\"center\",\"xref\":\"paper\",\"y\":0.425,\"yanchor\":\"bottom\",\"yref\":\"paper\"},{\"bgcolor\":\"rgba(255, 255, 255, 0.8)\",\"font\":{\"size\":12},\"showarrow\":false,\"text\":\"Total Samples: 15,571\",\"x\":0.01,\"xref\":\"paper\",\"y\":0.99,\"yref\":\"paper\"}],\"title\":{\"font\":{\"size\":24},\"x\":0.5},\"legend\":{\"orientation\":\"h\",\"yanchor\":\"bottom\",\"y\":0.5,\"xanchor\":\"center\",\"x\":0.5,\"bgcolor\":\"rgba(255, 255, 255, 0.8)\"},\"barmode\":\"group\",\"bargap\":0.15,\"bargroupgap\":0.1,\"height\":1200,\"width\":1400,\"showlegend\":true},                        {\"responsive\": true}                    ).then(function(){\n",
       "                            \n",
       "var gd = document.getElementById('c9d987f1-85f2-4a84-a824-0774519e6468');\n",
       "var x = new MutationObserver(function (mutations, observer) {{\n",
       "        var display = window.getComputedStyle(gd).display;\n",
       "        if (!display || display === 'none') {{\n",
       "            console.log([gd, 'removed!']);\n",
       "            Plotly.purge(gd);\n",
       "            observer.disconnect();\n",
       "        }}\n",
       "}});\n",
       "\n",
       "// Listen for the removal of the full notebook cells\n",
       "var notebookContainer = gd.closest('#notebook-container');\n",
       "if (notebookContainer) {{\n",
       "    x.observe(notebookContainer, {childList: true});\n",
       "}}\n",
       "\n",
       "// Listen for the clearing of the current output cell\n",
       "var outputEl = gd.closest('.output');\n",
       "if (outputEl) {{\n",
       "    x.observe(outputEl, {childList: true});\n",
       "}}\n",
       "\n",
       "                        })                };                });            </script>        </div>"
      ]
     },
     "metadata": {},
     "output_type": "display_data"
    }
   ],
   "source": [
    "def create_confidence_transition_analysis(results: Dict) -> go.Figure:\n",
    "    \"\"\"\n",
    "    Create separate bar graphs for confidence and accuracy vs transition tendency\n",
    "    \"\"\"\n",
    "    # Create bins for transition tendency\n",
    "    n_bins = 5\n",
    "    tendency_bins = np.linspace(0, 1, n_bins+1)\n",
    "    bin_labels = [f\"{tendency_bins[i]:.1f}-{tendency_bins[i+1]:.1f}\" \n",
    "                 for i in range(n_bins)]\n",
    "    \n",
    "    sleep_stages = {\n",
    "        0: 'N3 (Deep)',\n",
    "        1: 'N2 (Light)',\n",
    "        2: 'N1 (Light)',\n",
    "        3: 'REM',\n",
    "        4: 'Wake'\n",
    "    }\n",
    "    \n",
    "    # Initialize data structures\n",
    "    stage_data = {stage: {bin_label: {'confidences': [], 'correct': []} \n",
    "                         for bin_label in bin_labels} \n",
    "                 for stage in sleep_stages.keys()}\n",
    "    \n",
    "    # Bin the data\n",
    "    for i in range(len(results['true_labels'])):\n",
    "        true_label = results['true_labels'][i]\n",
    "        predicted_label = results['predictions'][i]\n",
    "        tendency_val = np.clip(results['tendencies'][i], 0, 1)\n",
    "        confidence_val = results['confidences'][i]\n",
    "        is_correct = true_label == predicted_label\n",
    "        \n",
    "        bin_idx = min(int(tendency_val * n_bins), n_bins-1)\n",
    "        bin_label = bin_labels[bin_idx]\n",
    "        stage_data[true_label][bin_label]['confidences'].append(confidence_val)\n",
    "        stage_data[true_label][bin_label]['correct'].append(is_correct)\n",
    "    \n",
    "    # Calculate statistics\n",
    "    stats = {}\n",
    "    overall_stats = {bin_label: {'confidences': [], 'correct': []} \n",
    "                    for bin_label in bin_labels}\n",
    "    \n",
    "    for stage in sleep_stages.keys():\n",
    "        stats[stage] = {}\n",
    "        for bin_label in bin_labels:\n",
    "            bin_data = stage_data[stage][bin_label]\n",
    "            confidences = bin_data['confidences']\n",
    "            correct = bin_data['correct']\n",
    "            \n",
    "            stats[stage][bin_label] = {\n",
    "                'mean_confidence': np.mean(confidences) if confidences else 0,\n",
    "                'std_confidence': np.std(confidences) if confidences else 0,\n",
    "                'accuracy': np.mean(correct) if correct else 0,\n",
    "                'count': len(confidences)\n",
    "            }\n",
    "            \n",
    "            overall_stats[bin_label]['confidences'].extend(confidences)\n",
    "            overall_stats[bin_label]['correct'].extend(correct)\n",
    "    \n",
    "    # Calculate overall statistics\n",
    "    overall_means = {}\n",
    "    for bin_label in bin_labels:\n",
    "        confidences = overall_stats[bin_label]['confidences']\n",
    "        correct = overall_stats[bin_label]['correct']\n",
    "        overall_means[bin_label] = {\n",
    "            'mean_confidence': np.mean(confidences) if confidences else 0,\n",
    "            'std_confidence': np.std(confidences) if confidences else 0,\n",
    "            'accuracy': np.mean(correct) if correct else 0,\n",
    "            'count': len(confidences)\n",
    "        }\n",
    "    \n",
    "    # Create figure with two subplots\n",
    "    fig = make_subplots(\n",
    "        rows=2, cols=1,\n",
    "        subplot_titles=(\"<b>Model Confidence by Sleep Stage and Transition Tendency</b>\",\n",
    "                       \"<b>Model Accuracy by Sleep Stage and Transition Tendency</b>\"),\n",
    "        vertical_spacing=0.15,\n",
    "        row_heights=[0.5, 0.5]\n",
    "    )\n",
    "    \n",
    "    # Color scheme\n",
    "    colors = {\n",
    "        0: '#1f77b4',  # Deep blue for N3\n",
    "        1: '#2ca02c',  # Green for N2\n",
    "        2: '#98df8a',  # Light green for N1\n",
    "        3: '#ff7f0e',  # Orange for REM\n",
    "        4: '#d62728',  # Red for Wake\n",
    "        'overall': '#7f7f7f'  # Gray for overall\n",
    "    }\n",
    "    \n",
    "    # Add confidence bars\n",
    "    for stage in sleep_stages.keys():\n",
    "        stage_stats = stats[stage]\n",
    "        \n",
    "        fig.add_trace(\n",
    "            go.Bar(\n",
    "                name=sleep_stages[stage],\n",
    "                x=bin_labels,\n",
    "                y=[stage_stats[bin]['mean_confidence'] for bin in bin_labels],\n",
    "                error_y=dict(\n",
    "                    type='data',\n",
    "                    array=[stage_stats[bin]['std_confidence'] for bin in bin_labels],\n",
    "                    visible=True\n",
    "                ),\n",
    "                text=[f\"n={stage_stats[bin]['count']}\" for bin in bin_labels],\n",
    "                textposition='auto',\n",
    "                marker_color=colors[stage],\n",
    "                hovertemplate=(\n",
    "                    f\"<b>{sleep_stages[stage]}</b><br>\" +\n",
    "                    \"Transition Range: %{x}<br>\" +\n",
    "                    \"Avg Confidence: %{y:.3f}<br>\" +\n",
    "                    \"Std Dev: %{error_y.array:.3f}<br>\" +\n",
    "                    \"%{text}<extra></extra>\"\n",
    "                )\n",
    "            ),\n",
    "            row=1, col=1\n",
    "        )\n",
    "    \n",
    "    # Add overall confidence line\n",
    "    fig.add_trace(\n",
    "        go.Scatter(\n",
    "            name='Overall Confidence/Accuracy',\n",
    "            x=bin_labels,\n",
    "            y=[overall_means[bin]['mean_confidence'] for bin in bin_labels],\n",
    "            mode='lines+markers',\n",
    "            line=dict(\n",
    "                color=colors['overall'],\n",
    "                width=3,\n",
    "                dash='dot'\n",
    "            ),\n",
    "            marker=dict(\n",
    "                size=10,\n",
    "                symbol='star'\n",
    "            ),\n",
    "            hovertemplate=(\n",
    "                \"<b>Overall Confidence</b><br>\" +\n",
    "                \"Transition Range: %{x}<br>\" +\n",
    "                \"Avg Confidence: %{y:.3f}<br>\" +\n",
    "                \"<extra></extra>\"\n",
    "            )\n",
    "        ),\n",
    "        row=1, col=1\n",
    "    )\n",
    "    \n",
    "    # Add accuracy bars\n",
    "    for stage in sleep_stages.keys():\n",
    "        stage_stats = stats[stage]\n",
    "        \n",
    "        fig.add_trace(\n",
    "            go.Bar(\n",
    "                name=sleep_stages[stage],\n",
    "                x=bin_labels,\n",
    "                y=[stage_stats[bin]['accuracy'] for bin in bin_labels],\n",
    "                marker_color=colors[stage],\n",
    "                text=[f\"{stage_stats[bin]['accuracy']:.1%}\" for bin in bin_labels],\n",
    "                textposition='auto',\n",
    "                showlegend=False,\n",
    "                hovertemplate=(\n",
    "                    f\"<b>{sleep_stages[stage]}</b><br>\" +\n",
    "                    \"Transition Range: %{x}<br>\" +\n",
    "                    \"Accuracy: %{y:.1%}<br>\" +\n",
    "                    \"<extra></extra>\"\n",
    "                )\n",
    "            ),\n",
    "            row=2, col=1\n",
    "        )\n",
    "    \n",
    "    # Add overall accuracy line\n",
    "    fig.add_trace(\n",
    "        go.Scatter(\n",
    "            name='Overall Confidence/Accuracy',\n",
    "            x=bin_labels,\n",
    "            y=[overall_means[bin]['accuracy'] for bin in bin_labels],\n",
    "            mode='lines+markers',\n",
    "            line=dict(\n",
    "                color=colors['overall'],\n",
    "                width=3,\n",
    "            ),\n",
    "            marker=dict(\n",
    "                size=10,\n",
    "                symbol='star'\n",
    "            ),\n",
    "            showlegend=False,\n",
    "            hovertemplate=(\n",
    "                \"<b>Overall Accuracy</b><br>\" +\n",
    "                \"Transition Range: %{x}<br>\" +\n",
    "                \"Accuracy: %{y:.1%}<br>\" +\n",
    "                \"<extra></extra>\"\n",
    "            )\n",
    "        ),\n",
    "        row=2, col=1\n",
    "    )\n",
    "    \n",
    "    # # Update layout\n",
    "    # fig.update_layout(\n",
    "    #     title=dict(\n",
    "    #         text=\"Model Performance Analysis by Transition Tendency\",\n",
    "    #         x=0.5,\n",
    "    #         font=dict(size=24)\n",
    "    #     ),\n",
    "    #     barmode='group',\n",
    "    #     bargap=0.15,\n",
    "    #     bargroupgap=0.1,\n",
    "    #     height=1200,\n",
    "    #     width=1400,\n",
    "    #     showlegend=True,\n",
    "    #     legend=dict(\n",
    "    #         yanchor=\"top\",\n",
    "    #         y=0.95,\n",
    "    #         xanchor=\"right\",\n",
    "    #         x=0.99,\n",
    "    #         bgcolor=\"rgba(255, 255, 255, 0.8)\"\n",
    "    #     ),\n",
    "    #     template=\"plotly_white\"\n",
    "    # )\n",
    "    # Update layout\n",
    "    fig.update_layout(\n",
    "        title=dict(\n",
    "            # text=\"Model Performance Analysis by Transition Tendency\",\n",
    "            x=0.5,\n",
    "            font=dict(size=24)\n",
    "        ),\n",
    "        barmode='group',\n",
    "        bargap=0.15,\n",
    "        bargroupgap=0.1,\n",
    "        height=1200,\n",
    "        width=1400,\n",
    "        showlegend=True,\n",
    "        legend=dict(\n",
    "            orientation=\"h\",  # Set legend to horizontal orientation\n",
    "            yanchor=\"bottom\",\n",
    "            y=.5,  # Position it slightly above the plot area\n",
    "            xanchor=\"center\",\n",
    "            x=0.5,\n",
    "            bgcolor=\"rgba(255, 255, 255, 0.8)\"\n",
    "        ),\n",
    "        template=\"plotly_white\"\n",
    "    )\n",
    "    \n",
    "    # Update axes\n",
    "    for row in [1, 2]:\n",
    "        fig.update_xaxes(\n",
    "            title=dict(\n",
    "                text=\"Transition Tendency (0=Stable → 1=Transitioning)\",\n",
    "                font=dict(size=14)\n",
    "            ),\n",
    "            tickangle=0,\n",
    "            row=row, col=1\n",
    "        )\n",
    "        \n",
    "        fig.update_yaxes(\n",
    "            range=[0, 1],\n",
    "            tickformat='.0%',\n",
    "            title=dict(\n",
    "                text=\"Average Confidence\" if row == 1 else \"Accuracy\",\n",
    "                font=dict(size=14)\n",
    "            ),\n",
    "            row=row, col=1\n",
    "        )\n",
    "    \n",
    "    # Add total samples annotation\n",
    "    total_samples = sum(sum(stats[s][bin]['count'] for bin in bin_labels) \n",
    "                       for s in sleep_stages.keys())\n",
    "    fig.add_annotation(\n",
    "        text=f\"Total Samples: {total_samples:,}\",\n",
    "        xref=\"paper\",\n",
    "        yref=\"paper\",\n",
    "        x=0.01,\n",
    "        y=0.99,\n",
    "        showarrow=False,\n",
    "        font=dict(size=12),\n",
    "        bgcolor=\"rgba(255, 255, 255, 0.8)\"\n",
    "    )\n",
    "    \n",
    "    return fig\n",
    "\n",
    "# Usage example:\n",
    "fig2 = create_confidence_transition_analysis(results)\n",
    "fig2.show()  # For interactive display\n",
    "fig2.write_html(\"confidence_analysis2.html\")  # To save as HTML file"
   ]
  },
  {
   "cell_type": "code",
   "execution_count": null,
   "metadata": {},
   "outputs": [],
   "source": []
  }
 ],
 "metadata": {
  "kernelspec": {
   "display_name": "Python 3",
   "language": "python",
   "name": "python3"
  },
  "language_info": {
   "codemirror_mode": {
    "name": "ipython",
    "version": 3
   },
   "file_extension": ".py",
   "mimetype": "text/x-python",
   "name": "python",
   "nbconvert_exporter": "python",
   "pygments_lexer": "ipython3",
   "version": "3.10.13"
  }
 },
 "nbformat": 4,
 "nbformat_minor": 2
}
