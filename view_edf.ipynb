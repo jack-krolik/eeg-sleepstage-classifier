{
 "cells": [
  {
   "cell_type": "code",
   "execution_count": null,
   "metadata": {},
   "outputs": [],
   "source": [
    "# script to view contents of edf files\n",
    "\n",
    "import mne\n",
    "\n",
    "file_path = \"./data/Attune Validation_AttVal108_(1).edf\"\n",
    "\n",
    "raw = mne.io.read_raw_edf(file_path, preload=True)\n",
    "\n",
    "print(raw.info)\n"
   ]
  },
  {
   "cell_type": "code",
   "execution_count": null,
   "metadata": {},
   "outputs": [],
   "source": [
    "import pyedflib\n",
    "\n",
    "# Load the EDF file\n",
    "edf_file_path = './data/Attune Validation_AttVal108_(1).edf'  # Replace with the path to your EDF file\n",
    "edf_reader = pyedflib.EdfReader(edf_file_path)\n",
    "\n",
    "# Display general file information\n",
    "print(\"File information:\")\n",
    "print(f\"File Duration: {edf_reader.file_duration} seconds\")\n",
    "print(f\"Number of Signals: {edf_reader.signals_in_file}\")\n",
    "print(f\"Start Date/Time: {edf_reader.getStartdatetime()}\")\n",
    "\n",
    "# Get header information of each signal\n",
    "print(\"\\nSignal information:\")\n",
    "for i in range(edf_reader.signals_in_file):\n",
    "    label = edf_reader.getLabel(i)\n",
    "    physical_min = edf_reader.getPhysicalMinimum(i)\n",
    "    physical_max = edf_reader.getPhysicalMaximum(i)\n",
    "    digital_min = edf_reader.getDigitalMinimum(i)\n",
    "    digital_max = edf_reader.getDigitalMaximum(i)\n",
    "    transducer = edf_reader.getTransducer(i)\n",
    "    prefilter = edf_reader.getPrefilter(i)\n",
    "    sample_frequency = edf_reader.getSampleFrequency(i)\n",
    "    \n",
    "    print(f\"\\nSignal {i+1}:\")\n",
    "    print(f\"  Label: {label}\")\n",
    "    print(f\"  Physical Min: {physical_min}\")\n",
    "    print(f\"  Physical Max: {physical_max}\")\n",
    "    print(f\"  Digital Min: {digital_min}\")\n",
    "    print(f\"  Digital Max: {digital_max}\")\n",
    "    print(f\"  Transducer: {transducer}\")\n",
    "    print(f\"  Prefilter: {prefilter}\")\n",
    "    print(f\"  Sample Frequency: {sample_frequency}\")\n",
    "\n",
    "# Close the file after reading\n",
    "edf_reader.close()\n"
   ]
  }
 ],
 "metadata": {
  "kernelspec": {
   "display_name": "myenv",
   "language": "python",
   "name": "python3"
  },
  "language_info": {
   "codemirror_mode": {
    "name": "ipython",
    "version": 3
   },
   "file_extension": ".py",
   "mimetype": "text/x-python",
   "name": "python",
   "nbconvert_exporter": "python",
   "pygments_lexer": "ipython3",
   "version": "3.12.5"
  }
 },
 "nbformat": 4,
 "nbformat_minor": 2
}
